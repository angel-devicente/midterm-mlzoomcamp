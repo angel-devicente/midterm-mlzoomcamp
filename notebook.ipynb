{
 "cells": [
  {
   "cell_type": "code",
   "execution_count": 1,
   "id": "75492d96",
   "metadata": {},
   "outputs": [],
   "source": [
    "import numpy as np\n",
    "\n",
    "import pandas as pd\n",
    "\n",
    "from matplotlib import pyplot as plt\n",
    "\n",
    "from datetime import datetime\n",
    "\n",
    "from sklearn.model_selection import train_test_split\n",
    "from sklearn.model_selection import KFold\n",
    "\n",
    "from sklearn.linear_model import LogisticRegression\n",
    "\n",
    "from sklearn.metrics import accuracy_score\n",
    "from sklearn.metrics import roc_auc_score\n",
    "from sklearn.metrics import roc_curve\n",
    "from sklearn.metrics import confusion_matrix\n",
    "\n",
    "from sklearn.tree import DecisionTreeClassifier\n",
    "\n",
    "from sklearn.ensemble import RandomForestClassifier\n",
    "\n",
    "import xgboost as xgb"
   ]
  },
  {
   "cell_type": "markdown",
   "id": "b3c99d40",
   "metadata": {},
   "source": [
    "## 1. Exploratory Data Analysis"
   ]
  },
  {
   "cell_type": "markdown",
   "id": "2b7d3b44",
   "metadata": {},
   "source": [
    "Let's see first the number of matches data available and the number/names of the features of the dataset."
   ]
  },
  {
   "cell_type": "code",
   "execution_count": 2,
   "id": "9686dd8b",
   "metadata": {},
   "outputs": [],
   "source": [
    "df = pd.read_csv('BWF-Data/ws.csv')"
   ]
  },
  {
   "cell_type": "code",
   "execution_count": 3,
   "id": "425bd488",
   "metadata": {},
   "outputs": [
    {
     "name": "stdout",
     "output_type": "stream",
     "text": [
      "Number of matches: 2975. Number of features: 38\n"
     ]
    }
   ],
   "source": [
    "nm, nf = df.shape\n",
    "print(f'Number of matches: {nm}. Number of features: {nf}')"
   ]
  },
  {
   "cell_type": "code",
   "execution_count": 4,
   "id": "aed77a71",
   "metadata": {},
   "outputs": [
    {
     "data": {
      "text/html": [
       "<div>\n",
       "<style scoped>\n",
       "    .dataframe tbody tr th:only-of-type {\n",
       "        vertical-align: middle;\n",
       "    }\n",
       "\n",
       "    .dataframe tbody tr th {\n",
       "        vertical-align: top;\n",
       "    }\n",
       "\n",
       "    .dataframe thead th {\n",
       "        text-align: right;\n",
       "    }\n",
       "</style>\n",
       "<table border=\"1\" class=\"dataframe\">\n",
       "  <thead>\n",
       "    <tr style=\"text-align: right;\">\n",
       "      <th></th>\n",
       "      <th>0</th>\n",
       "      <th>1</th>\n",
       "      <th>2</th>\n",
       "      <th>3</th>\n",
       "    </tr>\n",
       "  </thead>\n",
       "  <tbody>\n",
       "    <tr>\n",
       "      <th>tournament</th>\n",
       "      <td>PRINCESS SIRIVANNAVARI Thailand Masters 2018</td>\n",
       "      <td>PRINCESS SIRIVANNAVARI Thailand Masters 2018</td>\n",
       "      <td>PRINCESS SIRIVANNAVARI Thailand Masters 2018</td>\n",
       "      <td>PRINCESS SIRIVANNAVARI Thailand Masters 2018</td>\n",
       "    </tr>\n",
       "    <tr>\n",
       "      <th>city</th>\n",
       "      <td>Bangkok</td>\n",
       "      <td>Bangkok</td>\n",
       "      <td>Bangkok</td>\n",
       "      <td>Bangkok</td>\n",
       "    </tr>\n",
       "    <tr>\n",
       "      <th>country</th>\n",
       "      <td>Thailand</td>\n",
       "      <td>Thailand</td>\n",
       "      <td>Thailand</td>\n",
       "      <td>Thailand</td>\n",
       "    </tr>\n",
       "    <tr>\n",
       "      <th>date</th>\n",
       "      <td>09-01-2018</td>\n",
       "      <td>09-01-2018</td>\n",
       "      <td>09-01-2018</td>\n",
       "      <td>09-01-2018</td>\n",
       "    </tr>\n",
       "    <tr>\n",
       "      <th>tournament_type</th>\n",
       "      <td>HSBC BWF World Tour Super 300</td>\n",
       "      <td>HSBC BWF World Tour Super 300</td>\n",
       "      <td>HSBC BWF World Tour Super 300</td>\n",
       "      <td>HSBC BWF World Tour Super 300</td>\n",
       "    </tr>\n",
       "    <tr>\n",
       "      <th>discipline</th>\n",
       "      <td>WS</td>\n",
       "      <td>WS</td>\n",
       "      <td>WS</td>\n",
       "      <td>WS</td>\n",
       "    </tr>\n",
       "    <tr>\n",
       "      <th>round</th>\n",
       "      <td>Qualification quarter final</td>\n",
       "      <td>Qualification quarter final</td>\n",
       "      <td>Qualification quarter final</td>\n",
       "      <td>Qualification quarter final</td>\n",
       "    </tr>\n",
       "    <tr>\n",
       "      <th>winner</th>\n",
       "      <td>2</td>\n",
       "      <td>2</td>\n",
       "      <td>2</td>\n",
       "      <td>2</td>\n",
       "    </tr>\n",
       "    <tr>\n",
       "      <th>nb_sets</th>\n",
       "      <td>3</td>\n",
       "      <td>3</td>\n",
       "      <td>2</td>\n",
       "      <td>3</td>\n",
       "    </tr>\n",
       "    <tr>\n",
       "      <th>retired</th>\n",
       "      <td>False</td>\n",
       "      <td>False</td>\n",
       "      <td>False</td>\n",
       "      <td>False</td>\n",
       "    </tr>\n",
       "    <tr>\n",
       "      <th>game_1_score</th>\n",
       "      <td>17-21</td>\n",
       "      <td>21-16</td>\n",
       "      <td>8-21</td>\n",
       "      <td>21-17</td>\n",
       "    </tr>\n",
       "    <tr>\n",
       "      <th>game_2_score</th>\n",
       "      <td>21-15</td>\n",
       "      <td>7-21</td>\n",
       "      <td>10-21</td>\n",
       "      <td>15-21</td>\n",
       "    </tr>\n",
       "    <tr>\n",
       "      <th>game_3_score</th>\n",
       "      <td>13-21</td>\n",
       "      <td>6-21</td>\n",
       "      <td>NaN</td>\n",
       "      <td>18-21</td>\n",
       "    </tr>\n",
       "    <tr>\n",
       "      <th>team_one_players</th>\n",
       "      <td>Benyapa Aimsaard</td>\n",
       "      <td>Krestina Silich</td>\n",
       "      <td>Piramon Chamnaktan</td>\n",
       "      <td>Supanida Katethong</td>\n",
       "    </tr>\n",
       "    <tr>\n",
       "      <th>team_two_players</th>\n",
       "      <td>Chasinee Korepap</td>\n",
       "      <td>Nuntakarn Aimsaard</td>\n",
       "      <td>Mattana Hemrachatanun</td>\n",
       "      <td>Manassanan Lerthattasin</td>\n",
       "    </tr>\n",
       "    <tr>\n",
       "      <th>team_one_nationalities</th>\n",
       "      <td>THA</td>\n",
       "      <td>BLR</td>\n",
       "      <td>THA</td>\n",
       "      <td>THA</td>\n",
       "    </tr>\n",
       "    <tr>\n",
       "      <th>team_two_nationalities</th>\n",
       "      <td>THA</td>\n",
       "      <td>THA</td>\n",
       "      <td>THA</td>\n",
       "      <td>THA</td>\n",
       "    </tr>\n",
       "    <tr>\n",
       "      <th>team_one_total_points</th>\n",
       "      <td>51</td>\n",
       "      <td>34</td>\n",
       "      <td>18</td>\n",
       "      <td>54</td>\n",
       "    </tr>\n",
       "    <tr>\n",
       "      <th>team_two_total_points</th>\n",
       "      <td>57</td>\n",
       "      <td>58</td>\n",
       "      <td>42</td>\n",
       "      <td>59</td>\n",
       "    </tr>\n",
       "    <tr>\n",
       "      <th>team_one_most_consecutive_points</th>\n",
       "      <td>9</td>\n",
       "      <td>4</td>\n",
       "      <td>3</td>\n",
       "      <td>5</td>\n",
       "    </tr>\n",
       "    <tr>\n",
       "      <th>team_two_most_consecutive_points</th>\n",
       "      <td>7</td>\n",
       "      <td>13</td>\n",
       "      <td>8</td>\n",
       "      <td>6</td>\n",
       "    </tr>\n",
       "    <tr>\n",
       "      <th>team_one_game_points</th>\n",
       "      <td>1</td>\n",
       "      <td>2</td>\n",
       "      <td>0</td>\n",
       "      <td>1</td>\n",
       "    </tr>\n",
       "    <tr>\n",
       "      <th>team_two_game_points</th>\n",
       "      <td>5</td>\n",
       "      <td>4</td>\n",
       "      <td>2</td>\n",
       "      <td>3</td>\n",
       "    </tr>\n",
       "    <tr>\n",
       "      <th>team_one_most_consecutive_points_game_1</th>\n",
       "      <td>5</td>\n",
       "      <td>4</td>\n",
       "      <td>2</td>\n",
       "      <td>4</td>\n",
       "    </tr>\n",
       "    <tr>\n",
       "      <th>team_two_most_consecutive_points_game_1</th>\n",
       "      <td>7</td>\n",
       "      <td>3</td>\n",
       "      <td>8</td>\n",
       "      <td>3</td>\n",
       "    </tr>\n",
       "    <tr>\n",
       "      <th>team_one_game_points_game_1</th>\n",
       "      <td>0</td>\n",
       "      <td>2</td>\n",
       "      <td>0</td>\n",
       "      <td>1</td>\n",
       "    </tr>\n",
       "    <tr>\n",
       "      <th>team_two_game_points_game_1</th>\n",
       "      <td>2</td>\n",
       "      <td>0</td>\n",
       "      <td>1</td>\n",
       "      <td>0</td>\n",
       "    </tr>\n",
       "    <tr>\n",
       "      <th>game_1_scores</th>\n",
       "      <td>['0-0', '1-0', '1-1', '1-2', '2-2', '2-3', '2-...</td>\n",
       "      <td>['0-0', '1-0', '2-0', '3-0', '4-0', '4-1', '5-...</td>\n",
       "      <td>['0-0', '1-0', '1-1', '1-2', '2-2', '3-2', '3-...</td>\n",
       "      <td>['0-0', '0-1', '0-2', '1-2', '1-3', '2-3', '2-...</td>\n",
       "    </tr>\n",
       "    <tr>\n",
       "      <th>team_one_most_consecutive_points_game_2</th>\n",
       "      <td>8.0</td>\n",
       "      <td>2.0</td>\n",
       "      <td>3.0</td>\n",
       "      <td>4.0</td>\n",
       "    </tr>\n",
       "    <tr>\n",
       "      <th>team_two_most_consecutive_points_game_2</th>\n",
       "      <td>5.0</td>\n",
       "      <td>9.0</td>\n",
       "      <td>7.0</td>\n",
       "      <td>6.0</td>\n",
       "    </tr>\n",
       "    <tr>\n",
       "      <th>team_one_game_points_game_2</th>\n",
       "      <td>1.0</td>\n",
       "      <td>0.0</td>\n",
       "      <td>0.0</td>\n",
       "      <td>0.0</td>\n",
       "    </tr>\n",
       "    <tr>\n",
       "      <th>team_two_game_points_game_2</th>\n",
       "      <td>0.0</td>\n",
       "      <td>1.0</td>\n",
       "      <td>1.0</td>\n",
       "      <td>1.0</td>\n",
       "    </tr>\n",
       "    <tr>\n",
       "      <th>game_2_scores</th>\n",
       "      <td>['0-0', '1-0', '2-0', '2-1', '3-1', '3-2', '4-...</td>\n",
       "      <td>['0-0', '0-1', '0-2', '0-3', '0-4', '0-5', '1-...</td>\n",
       "      <td>['0-0', '0-1', '1-1', '2-1', '3-1', '3-2', '4-...</td>\n",
       "      <td>['0-0', '1-0', '2-0', '3-0', '3-1', '4-1', '4-...</td>\n",
       "    </tr>\n",
       "    <tr>\n",
       "      <th>team_one_most_consecutive_points_game_3</th>\n",
       "      <td>2.0</td>\n",
       "      <td>2.0</td>\n",
       "      <td>NaN</td>\n",
       "      <td>3.0</td>\n",
       "    </tr>\n",
       "    <tr>\n",
       "      <th>team_two_most_consecutive_points_game_3</th>\n",
       "      <td>7.0</td>\n",
       "      <td>11.0</td>\n",
       "      <td>NaN</td>\n",
       "      <td>3.0</td>\n",
       "    </tr>\n",
       "    <tr>\n",
       "      <th>team_one_game_points_game_3</th>\n",
       "      <td>0.0</td>\n",
       "      <td>0.0</td>\n",
       "      <td>NaN</td>\n",
       "      <td>0.0</td>\n",
       "    </tr>\n",
       "    <tr>\n",
       "      <th>team_two_game_points_game_3</th>\n",
       "      <td>3.0</td>\n",
       "      <td>3.0</td>\n",
       "      <td>NaN</td>\n",
       "      <td>2.0</td>\n",
       "    </tr>\n",
       "    <tr>\n",
       "      <th>game_3_scores</th>\n",
       "      <td>['0-0', '1-0', '1-1', '2-1', '3-1', '3-2', '3-...</td>\n",
       "      <td>['0-0', '0-1', '0-2', '0-3', '0-4', '0-5', '0-...</td>\n",
       "      <td>[]</td>\n",
       "      <td>['0-0', '1-0', '1-1', '2-1', '2-2', '2-3', '2-...</td>\n",
       "    </tr>\n",
       "  </tbody>\n",
       "</table>\n",
       "</div>"
      ],
      "text/plain": [
       "                                                                                         0  \\\n",
       "tournament                                    PRINCESS SIRIVANNAVARI Thailand Masters 2018   \n",
       "city                                                                               Bangkok   \n",
       "country                                                                           Thailand   \n",
       "date                                                                            09-01-2018   \n",
       "tournament_type                                              HSBC BWF World Tour Super 300   \n",
       "discipline                                                                              WS   \n",
       "round                                                          Qualification quarter final   \n",
       "winner                                                                                   2   \n",
       "nb_sets                                                                                  3   \n",
       "retired                                                                              False   \n",
       "game_1_score                                                                         17-21   \n",
       "game_2_score                                                                         21-15   \n",
       "game_3_score                                                                         13-21   \n",
       "team_one_players                                                          Benyapa Aimsaard   \n",
       "team_two_players                                                          Chasinee Korepap   \n",
       "team_one_nationalities                                                                 THA   \n",
       "team_two_nationalities                                                                 THA   \n",
       "team_one_total_points                                                                   51   \n",
       "team_two_total_points                                                                   57   \n",
       "team_one_most_consecutive_points                                                         9   \n",
       "team_two_most_consecutive_points                                                         7   \n",
       "team_one_game_points                                                                     1   \n",
       "team_two_game_points                                                                     5   \n",
       "team_one_most_consecutive_points_game_1                                                  5   \n",
       "team_two_most_consecutive_points_game_1                                                  7   \n",
       "team_one_game_points_game_1                                                              0   \n",
       "team_two_game_points_game_1                                                              2   \n",
       "game_1_scores                            ['0-0', '1-0', '1-1', '1-2', '2-2', '2-3', '2-...   \n",
       "team_one_most_consecutive_points_game_2                                                8.0   \n",
       "team_two_most_consecutive_points_game_2                                                5.0   \n",
       "team_one_game_points_game_2                                                            1.0   \n",
       "team_two_game_points_game_2                                                            0.0   \n",
       "game_2_scores                            ['0-0', '1-0', '2-0', '2-1', '3-1', '3-2', '4-...   \n",
       "team_one_most_consecutive_points_game_3                                                2.0   \n",
       "team_two_most_consecutive_points_game_3                                                7.0   \n",
       "team_one_game_points_game_3                                                            0.0   \n",
       "team_two_game_points_game_3                                                            3.0   \n",
       "game_3_scores                            ['0-0', '1-0', '1-1', '2-1', '3-1', '3-2', '3-...   \n",
       "\n",
       "                                                                                         1  \\\n",
       "tournament                                    PRINCESS SIRIVANNAVARI Thailand Masters 2018   \n",
       "city                                                                               Bangkok   \n",
       "country                                                                           Thailand   \n",
       "date                                                                            09-01-2018   \n",
       "tournament_type                                              HSBC BWF World Tour Super 300   \n",
       "discipline                                                                              WS   \n",
       "round                                                          Qualification quarter final   \n",
       "winner                                                                                   2   \n",
       "nb_sets                                                                                  3   \n",
       "retired                                                                              False   \n",
       "game_1_score                                                                         21-16   \n",
       "game_2_score                                                                          7-21   \n",
       "game_3_score                                                                          6-21   \n",
       "team_one_players                                                           Krestina Silich   \n",
       "team_two_players                                                        Nuntakarn Aimsaard   \n",
       "team_one_nationalities                                                                 BLR   \n",
       "team_two_nationalities                                                                 THA   \n",
       "team_one_total_points                                                                   34   \n",
       "team_two_total_points                                                                   58   \n",
       "team_one_most_consecutive_points                                                         4   \n",
       "team_two_most_consecutive_points                                                        13   \n",
       "team_one_game_points                                                                     2   \n",
       "team_two_game_points                                                                     4   \n",
       "team_one_most_consecutive_points_game_1                                                  4   \n",
       "team_two_most_consecutive_points_game_1                                                  3   \n",
       "team_one_game_points_game_1                                                              2   \n",
       "team_two_game_points_game_1                                                              0   \n",
       "game_1_scores                            ['0-0', '1-0', '2-0', '3-0', '4-0', '4-1', '5-...   \n",
       "team_one_most_consecutive_points_game_2                                                2.0   \n",
       "team_two_most_consecutive_points_game_2                                                9.0   \n",
       "team_one_game_points_game_2                                                            0.0   \n",
       "team_two_game_points_game_2                                                            1.0   \n",
       "game_2_scores                            ['0-0', '0-1', '0-2', '0-3', '0-4', '0-5', '1-...   \n",
       "team_one_most_consecutive_points_game_3                                                2.0   \n",
       "team_two_most_consecutive_points_game_3                                               11.0   \n",
       "team_one_game_points_game_3                                                            0.0   \n",
       "team_two_game_points_game_3                                                            3.0   \n",
       "game_3_scores                            ['0-0', '0-1', '0-2', '0-3', '0-4', '0-5', '0-...   \n",
       "\n",
       "                                                                                         2  \\\n",
       "tournament                                    PRINCESS SIRIVANNAVARI Thailand Masters 2018   \n",
       "city                                                                               Bangkok   \n",
       "country                                                                           Thailand   \n",
       "date                                                                            09-01-2018   \n",
       "tournament_type                                              HSBC BWF World Tour Super 300   \n",
       "discipline                                                                              WS   \n",
       "round                                                          Qualification quarter final   \n",
       "winner                                                                                   2   \n",
       "nb_sets                                                                                  2   \n",
       "retired                                                                              False   \n",
       "game_1_score                                                                          8-21   \n",
       "game_2_score                                                                         10-21   \n",
       "game_3_score                                                                           NaN   \n",
       "team_one_players                                                        Piramon Chamnaktan   \n",
       "team_two_players                                                     Mattana Hemrachatanun   \n",
       "team_one_nationalities                                                                 THA   \n",
       "team_two_nationalities                                                                 THA   \n",
       "team_one_total_points                                                                   18   \n",
       "team_two_total_points                                                                   42   \n",
       "team_one_most_consecutive_points                                                         3   \n",
       "team_two_most_consecutive_points                                                         8   \n",
       "team_one_game_points                                                                     0   \n",
       "team_two_game_points                                                                     2   \n",
       "team_one_most_consecutive_points_game_1                                                  2   \n",
       "team_two_most_consecutive_points_game_1                                                  8   \n",
       "team_one_game_points_game_1                                                              0   \n",
       "team_two_game_points_game_1                                                              1   \n",
       "game_1_scores                            ['0-0', '1-0', '1-1', '1-2', '2-2', '3-2', '3-...   \n",
       "team_one_most_consecutive_points_game_2                                                3.0   \n",
       "team_two_most_consecutive_points_game_2                                                7.0   \n",
       "team_one_game_points_game_2                                                            0.0   \n",
       "team_two_game_points_game_2                                                            1.0   \n",
       "game_2_scores                            ['0-0', '0-1', '1-1', '2-1', '3-1', '3-2', '4-...   \n",
       "team_one_most_consecutive_points_game_3                                                NaN   \n",
       "team_two_most_consecutive_points_game_3                                                NaN   \n",
       "team_one_game_points_game_3                                                            NaN   \n",
       "team_two_game_points_game_3                                                            NaN   \n",
       "game_3_scores                                                                           []   \n",
       "\n",
       "                                                                                         3  \n",
       "tournament                                    PRINCESS SIRIVANNAVARI Thailand Masters 2018  \n",
       "city                                                                               Bangkok  \n",
       "country                                                                           Thailand  \n",
       "date                                                                            09-01-2018  \n",
       "tournament_type                                              HSBC BWF World Tour Super 300  \n",
       "discipline                                                                              WS  \n",
       "round                                                          Qualification quarter final  \n",
       "winner                                                                                   2  \n",
       "nb_sets                                                                                  3  \n",
       "retired                                                                              False  \n",
       "game_1_score                                                                         21-17  \n",
       "game_2_score                                                                         15-21  \n",
       "game_3_score                                                                         18-21  \n",
       "team_one_players                                                        Supanida Katethong  \n",
       "team_two_players                                                   Manassanan Lerthattasin  \n",
       "team_one_nationalities                                                                 THA  \n",
       "team_two_nationalities                                                                 THA  \n",
       "team_one_total_points                                                                   54  \n",
       "team_two_total_points                                                                   59  \n",
       "team_one_most_consecutive_points                                                         5  \n",
       "team_two_most_consecutive_points                                                         6  \n",
       "team_one_game_points                                                                     1  \n",
       "team_two_game_points                                                                     3  \n",
       "team_one_most_consecutive_points_game_1                                                  4  \n",
       "team_two_most_consecutive_points_game_1                                                  3  \n",
       "team_one_game_points_game_1                                                              1  \n",
       "team_two_game_points_game_1                                                              0  \n",
       "game_1_scores                            ['0-0', '0-1', '0-2', '1-2', '1-3', '2-3', '2-...  \n",
       "team_one_most_consecutive_points_game_2                                                4.0  \n",
       "team_two_most_consecutive_points_game_2                                                6.0  \n",
       "team_one_game_points_game_2                                                            0.0  \n",
       "team_two_game_points_game_2                                                            1.0  \n",
       "game_2_scores                            ['0-0', '1-0', '2-0', '3-0', '3-1', '4-1', '4-...  \n",
       "team_one_most_consecutive_points_game_3                                                3.0  \n",
       "team_two_most_consecutive_points_game_3                                                3.0  \n",
       "team_one_game_points_game_3                                                            0.0  \n",
       "team_two_game_points_game_3                                                            2.0  \n",
       "game_3_scores                            ['0-0', '1-0', '1-1', '2-1', '2-2', '2-3', '2-...  "
      ]
     },
     "execution_count": 4,
     "metadata": {},
     "output_type": "execute_result"
    }
   ],
   "source": [
    "df.T.iloc[:,0:4]"
   ]
  },
  {
   "cell_type": "markdown",
   "id": "30be24e0",
   "metadata": {},
   "source": [
    "### 1.1 Cleaning the data\n",
    "\n",
    "While some of the detailed features above might arguably be useful for predicting the outcome of a match, we are going to discard most of them and just keep information about the names of the players, the date of the match and the total points scored by each. "
   ]
  },
  {
   "cell_type": "markdown",
   "id": "3f77985d",
   "metadata": {},
   "source": [
    "#### 1.1.1 Discarding unfinished games\n",
    "\n",
    "let's first discard games in which one of the players retired, since that will not give us any information about the strength of each player, and in most cases it is probably due to an injury"
   ]
  },
  {
   "cell_type": "code",
   "execution_count": 5,
   "id": "c06674ca",
   "metadata": {},
   "outputs": [
    {
     "data": {
      "text/plain": [
       "False    2933\n",
       "True       42\n",
       "Name: retired, dtype: int64"
      ]
     },
     "execution_count": 5,
     "metadata": {},
     "output_type": "execute_result"
    }
   ],
   "source": [
    "df.retired.value_counts()"
   ]
  },
  {
   "cell_type": "code",
   "execution_count": 6,
   "id": "aaf6203d",
   "metadata": {},
   "outputs": [],
   "source": [
    "# let's get rid of the 42 matches where one player retired\n",
    "\n",
    "df = df[df.retired == False]\n",
    "del df['retired']\n",
    "\n",
    "# let's reset the index, since rows were deleted\n",
    "df.reset_index(inplace=True,drop=True)"
   ]
  },
  {
   "cell_type": "markdown",
   "id": "26074378",
   "metadata": {},
   "source": [
    "#### 1.1.2 Keeping only essential features \n",
    "\n",
    "we now get rid of most features, except those relating to the players' identity, the date, the winner of the match and the points scored"
   ]
  },
  {
   "cell_type": "code",
   "execution_count": 7,
   "id": "3258c976",
   "metadata": {},
   "outputs": [],
   "source": [
    "features = ['date', 'team_one_players', 'team_two_players',\n",
    "       'team_one_total_points', 'team_two_total_points', 'winner']"
   ]
  },
  {
   "cell_type": "code",
   "execution_count": 8,
   "id": "f1ea6fe1",
   "metadata": {},
   "outputs": [],
   "source": [
    "df = df[features]"
   ]
  },
  {
   "cell_type": "code",
   "execution_count": 9,
   "id": "ac0bb74a",
   "metadata": {},
   "outputs": [
    {
     "data": {
      "text/html": [
       "<div>\n",
       "<style scoped>\n",
       "    .dataframe tbody tr th:only-of-type {\n",
       "        vertical-align: middle;\n",
       "    }\n",
       "\n",
       "    .dataframe tbody tr th {\n",
       "        vertical-align: top;\n",
       "    }\n",
       "\n",
       "    .dataframe thead th {\n",
       "        text-align: right;\n",
       "    }\n",
       "</style>\n",
       "<table border=\"1\" class=\"dataframe\">\n",
       "  <thead>\n",
       "    <tr style=\"text-align: right;\">\n",
       "      <th></th>\n",
       "      <th>date</th>\n",
       "      <th>team_one_players</th>\n",
       "      <th>team_two_players</th>\n",
       "      <th>team_one_total_points</th>\n",
       "      <th>team_two_total_points</th>\n",
       "      <th>winner</th>\n",
       "    </tr>\n",
       "  </thead>\n",
       "  <tbody>\n",
       "    <tr>\n",
       "      <th>0</th>\n",
       "      <td>09-01-2018</td>\n",
       "      <td>Benyapa Aimsaard</td>\n",
       "      <td>Chasinee Korepap</td>\n",
       "      <td>51</td>\n",
       "      <td>57</td>\n",
       "      <td>2</td>\n",
       "    </tr>\n",
       "    <tr>\n",
       "      <th>1</th>\n",
       "      <td>09-01-2018</td>\n",
       "      <td>Krestina Silich</td>\n",
       "      <td>Nuntakarn Aimsaard</td>\n",
       "      <td>34</td>\n",
       "      <td>58</td>\n",
       "      <td>2</td>\n",
       "    </tr>\n",
       "    <tr>\n",
       "      <th>2</th>\n",
       "      <td>09-01-2018</td>\n",
       "      <td>Piramon Chamnaktan</td>\n",
       "      <td>Mattana Hemrachatanun</td>\n",
       "      <td>18</td>\n",
       "      <td>42</td>\n",
       "      <td>2</td>\n",
       "    </tr>\n",
       "    <tr>\n",
       "      <th>3</th>\n",
       "      <td>09-01-2018</td>\n",
       "      <td>Supanida Katethong</td>\n",
       "      <td>Manassanan Lerthattasin</td>\n",
       "      <td>54</td>\n",
       "      <td>59</td>\n",
       "      <td>2</td>\n",
       "    </tr>\n",
       "    <tr>\n",
       "      <th>4</th>\n",
       "      <td>10-01-2018</td>\n",
       "      <td>Nitchaon Jindapol</td>\n",
       "      <td>Nuntakarn Aimsaard</td>\n",
       "      <td>42</td>\n",
       "      <td>25</td>\n",
       "      <td>1</td>\n",
       "    </tr>\n",
       "    <tr>\n",
       "      <th>...</th>\n",
       "      <td>...</td>\n",
       "      <td>...</td>\n",
       "      <td>...</td>\n",
       "      <td>...</td>\n",
       "      <td>...</td>\n",
       "      <td>...</td>\n",
       "    </tr>\n",
       "    <tr>\n",
       "      <th>2928</th>\n",
       "      <td>26-03-2021</td>\n",
       "      <td>Iris Wang</td>\n",
       "      <td>Saina Nehwal</td>\n",
       "      <td>59</td>\n",
       "      <td>59</td>\n",
       "      <td>2</td>\n",
       "    </tr>\n",
       "    <tr>\n",
       "      <th>2929</th>\n",
       "      <td>26-03-2021</td>\n",
       "      <td>Ira Sharma</td>\n",
       "      <td>Line Christophersen</td>\n",
       "      <td>19</td>\n",
       "      <td>42</td>\n",
       "      <td>2</td>\n",
       "    </tr>\n",
       "    <tr>\n",
       "      <th>2930</th>\n",
       "      <td>27-03-2021</td>\n",
       "      <td>Saina Nehwal</td>\n",
       "      <td>Line Christophersen</td>\n",
       "      <td>34</td>\n",
       "      <td>42</td>\n",
       "      <td>2</td>\n",
       "    </tr>\n",
       "    <tr>\n",
       "      <th>2931</th>\n",
       "      <td>27-03-2021</td>\n",
       "      <td>Pornpawee Chochuwong</td>\n",
       "      <td>Busanan Ongbamrungphan</td>\n",
       "      <td>54</td>\n",
       "      <td>60</td>\n",
       "      <td>2</td>\n",
       "    </tr>\n",
       "    <tr>\n",
       "      <th>2932</th>\n",
       "      <td>28-03-2021</td>\n",
       "      <td>Busanan Ongbamrungphan</td>\n",
       "      <td>Line Christophersen</td>\n",
       "      <td>58</td>\n",
       "      <td>55</td>\n",
       "      <td>1</td>\n",
       "    </tr>\n",
       "  </tbody>\n",
       "</table>\n",
       "<p>2933 rows × 6 columns</p>\n",
       "</div>"
      ],
      "text/plain": [
       "            date        team_one_players         team_two_players  \\\n",
       "0     09-01-2018        Benyapa Aimsaard         Chasinee Korepap   \n",
       "1     09-01-2018         Krestina Silich       Nuntakarn Aimsaard   \n",
       "2     09-01-2018      Piramon Chamnaktan    Mattana Hemrachatanun   \n",
       "3     09-01-2018      Supanida Katethong  Manassanan Lerthattasin   \n",
       "4     10-01-2018       Nitchaon Jindapol       Nuntakarn Aimsaard   \n",
       "...          ...                     ...                      ...   \n",
       "2928  26-03-2021               Iris Wang             Saina Nehwal   \n",
       "2929  26-03-2021              Ira Sharma      Line Christophersen   \n",
       "2930  27-03-2021            Saina Nehwal      Line Christophersen   \n",
       "2931  27-03-2021    Pornpawee Chochuwong   Busanan Ongbamrungphan   \n",
       "2932  28-03-2021  Busanan Ongbamrungphan      Line Christophersen   \n",
       "\n",
       "      team_one_total_points  team_two_total_points  winner  \n",
       "0                        51                     57       2  \n",
       "1                        34                     58       2  \n",
       "2                        18                     42       2  \n",
       "3                        54                     59       2  \n",
       "4                        42                     25       1  \n",
       "...                     ...                    ...     ...  \n",
       "2928                     59                     59       2  \n",
       "2929                     19                     42       2  \n",
       "2930                     34                     42       2  \n",
       "2931                     54                     60       2  \n",
       "2932                     58                     55       1  \n",
       "\n",
       "[2933 rows x 6 columns]"
      ]
     },
     "execution_count": 9,
     "metadata": {},
     "output_type": "execute_result"
    }
   ],
   "source": [
    "df.iloc[:]"
   ]
  },
  {
   "cell_type": "markdown",
   "id": "39a605e8",
   "metadata": {},
   "source": [
    "#### 1.1.3 Tidying up features' names and avoiding problems with players' names"
   ]
  },
  {
   "cell_type": "markdown",
   "id": "eb923e2a",
   "metadata": {},
   "source": [
    "+ First, let's change the players column names and the points columns. This will make the dataset easier to read"
   ]
  },
  {
   "cell_type": "code",
   "execution_count": 10,
   "id": "e172cc60",
   "metadata": {},
   "outputs": [],
   "source": [
    "df.rename(columns={'team_one_players':'player1','team_two_players':'player2'},inplace=True)"
   ]
  },
  {
   "cell_type": "code",
   "execution_count": 11,
   "id": "56543526",
   "metadata": {},
   "outputs": [],
   "source": [
    "df.rename(columns={'team_one_total_points':'points1','team_two_total_points':'points2'},inplace=True)"
   ]
  },
  {
   "cell_type": "markdown",
   "id": "054586b9",
   "metadata": {},
   "source": [
    "+ Second, we can see that some players appear as different names due to lowercase/uppercase differences, so let's homogeneize their names to avoid repeated player names"
   ]
  },
  {
   "cell_type": "code",
   "execution_count": 12,
   "id": "bd98fc86",
   "metadata": {},
   "outputs": [
    {
     "data": {
      "text/plain": [
       "Tzu Ying Tai           101\n",
       "Carolina Marin          68\n",
       "Nozomi Okuhara          66\n",
       "Ratchanok Intanon       61\n",
       "Michelle Li             59\n",
       "                      ... \n",
       "Chisato Hoshi            1\n",
       "Jekaterina Romanova      1\n",
       "Liana Lencevica          1\n",
       "Ratchanok INTANON        1\n",
       "Daniela Macias           1\n",
       "Name: player1, Length: 357, dtype: int64"
      ]
     },
     "execution_count": 12,
     "metadata": {},
     "output_type": "execute_result"
    }
   ],
   "source": [
    "# some players have different name entries, for example, see Ratchanok Intanon below\n",
    "\n",
    "df.player1.value_counts()"
   ]
  },
  {
   "cell_type": "code",
   "execution_count": 13,
   "id": "fa16b4fe",
   "metadata": {},
   "outputs": [
    {
     "data": {
      "text/plain": [
       "tzu_ying_tai             103\n",
       "nozomi_okuhara            68\n",
       "carolina_marin            68\n",
       "ratchanok_intanon         62\n",
       "michelle_li               59\n",
       "                        ... \n",
       "marsa_indah_salsabila      1\n",
       "li_ting_peng               1\n",
       "yen_chi_kuo                1\n",
       "getter_saar                1\n",
       "daniela_macias             1\n",
       "Name: player1, Length: 350, dtype: int64"
      ]
     },
     "execution_count": 13,
     "metadata": {},
     "output_type": "execute_result"
    }
   ],
   "source": [
    "# putting names in lower case and replacing ' ' with '_' groups player entries \n",
    "# (for example: Tzu Ying Tai, Nozomi Okuhara, Ratachanok Intanon)\n",
    "\n",
    "df.player1.str.lower().str.replace(' ','_').value_counts()"
   ]
  },
  {
   "cell_type": "code",
   "execution_count": 14,
   "id": "4f62d323",
   "metadata": {},
   "outputs": [],
   "source": [
    "df.player1 = df.player1.str.lower().str.replace(' ','_')\n",
    "df.player2 = df.player2.str.lower().str.replace(' ','_')"
   ]
  },
  {
   "cell_type": "code",
   "execution_count": 15,
   "id": "abd65f18",
   "metadata": {},
   "outputs": [
    {
     "data": {
      "text/html": [
       "<div>\n",
       "<style scoped>\n",
       "    .dataframe tbody tr th:only-of-type {\n",
       "        vertical-align: middle;\n",
       "    }\n",
       "\n",
       "    .dataframe tbody tr th {\n",
       "        vertical-align: top;\n",
       "    }\n",
       "\n",
       "    .dataframe thead th {\n",
       "        text-align: right;\n",
       "    }\n",
       "</style>\n",
       "<table border=\"1\" class=\"dataframe\">\n",
       "  <thead>\n",
       "    <tr style=\"text-align: right;\">\n",
       "      <th></th>\n",
       "      <th>date</th>\n",
       "      <th>player1</th>\n",
       "      <th>player2</th>\n",
       "      <th>points1</th>\n",
       "      <th>points2</th>\n",
       "      <th>winner</th>\n",
       "    </tr>\n",
       "  </thead>\n",
       "  <tbody>\n",
       "    <tr>\n",
       "      <th>0</th>\n",
       "      <td>09-01-2018</td>\n",
       "      <td>benyapa_aimsaard</td>\n",
       "      <td>chasinee_korepap</td>\n",
       "      <td>51</td>\n",
       "      <td>57</td>\n",
       "      <td>2</td>\n",
       "    </tr>\n",
       "    <tr>\n",
       "      <th>1</th>\n",
       "      <td>09-01-2018</td>\n",
       "      <td>krestina_silich</td>\n",
       "      <td>nuntakarn_aimsaard</td>\n",
       "      <td>34</td>\n",
       "      <td>58</td>\n",
       "      <td>2</td>\n",
       "    </tr>\n",
       "    <tr>\n",
       "      <th>2</th>\n",
       "      <td>09-01-2018</td>\n",
       "      <td>piramon_chamnaktan</td>\n",
       "      <td>mattana_hemrachatanun</td>\n",
       "      <td>18</td>\n",
       "      <td>42</td>\n",
       "      <td>2</td>\n",
       "    </tr>\n",
       "    <tr>\n",
       "      <th>3</th>\n",
       "      <td>09-01-2018</td>\n",
       "      <td>supanida_katethong</td>\n",
       "      <td>manassanan_lerthattasin</td>\n",
       "      <td>54</td>\n",
       "      <td>59</td>\n",
       "      <td>2</td>\n",
       "    </tr>\n",
       "    <tr>\n",
       "      <th>4</th>\n",
       "      <td>10-01-2018</td>\n",
       "      <td>nitchaon_jindapol</td>\n",
       "      <td>nuntakarn_aimsaard</td>\n",
       "      <td>42</td>\n",
       "      <td>25</td>\n",
       "      <td>1</td>\n",
       "    </tr>\n",
       "    <tr>\n",
       "      <th>...</th>\n",
       "      <td>...</td>\n",
       "      <td>...</td>\n",
       "      <td>...</td>\n",
       "      <td>...</td>\n",
       "      <td>...</td>\n",
       "      <td>...</td>\n",
       "    </tr>\n",
       "    <tr>\n",
       "      <th>2928</th>\n",
       "      <td>26-03-2021</td>\n",
       "      <td>iris_wang</td>\n",
       "      <td>saina_nehwal</td>\n",
       "      <td>59</td>\n",
       "      <td>59</td>\n",
       "      <td>2</td>\n",
       "    </tr>\n",
       "    <tr>\n",
       "      <th>2929</th>\n",
       "      <td>26-03-2021</td>\n",
       "      <td>ira_sharma</td>\n",
       "      <td>line_christophersen</td>\n",
       "      <td>19</td>\n",
       "      <td>42</td>\n",
       "      <td>2</td>\n",
       "    </tr>\n",
       "    <tr>\n",
       "      <th>2930</th>\n",
       "      <td>27-03-2021</td>\n",
       "      <td>saina_nehwal</td>\n",
       "      <td>line_christophersen</td>\n",
       "      <td>34</td>\n",
       "      <td>42</td>\n",
       "      <td>2</td>\n",
       "    </tr>\n",
       "    <tr>\n",
       "      <th>2931</th>\n",
       "      <td>27-03-2021</td>\n",
       "      <td>pornpawee_chochuwong</td>\n",
       "      <td>busanan_ongbamrungphan</td>\n",
       "      <td>54</td>\n",
       "      <td>60</td>\n",
       "      <td>2</td>\n",
       "    </tr>\n",
       "    <tr>\n",
       "      <th>2932</th>\n",
       "      <td>28-03-2021</td>\n",
       "      <td>busanan_ongbamrungphan</td>\n",
       "      <td>line_christophersen</td>\n",
       "      <td>58</td>\n",
       "      <td>55</td>\n",
       "      <td>1</td>\n",
       "    </tr>\n",
       "  </tbody>\n",
       "</table>\n",
       "<p>2933 rows × 6 columns</p>\n",
       "</div>"
      ],
      "text/plain": [
       "            date                 player1                  player2  points1  \\\n",
       "0     09-01-2018        benyapa_aimsaard         chasinee_korepap       51   \n",
       "1     09-01-2018         krestina_silich       nuntakarn_aimsaard       34   \n",
       "2     09-01-2018      piramon_chamnaktan    mattana_hemrachatanun       18   \n",
       "3     09-01-2018      supanida_katethong  manassanan_lerthattasin       54   \n",
       "4     10-01-2018       nitchaon_jindapol       nuntakarn_aimsaard       42   \n",
       "...          ...                     ...                      ...      ...   \n",
       "2928  26-03-2021               iris_wang             saina_nehwal       59   \n",
       "2929  26-03-2021              ira_sharma      line_christophersen       19   \n",
       "2930  27-03-2021            saina_nehwal      line_christophersen       34   \n",
       "2931  27-03-2021    pornpawee_chochuwong   busanan_ongbamrungphan       54   \n",
       "2932  28-03-2021  busanan_ongbamrungphan      line_christophersen       58   \n",
       "\n",
       "      points2  winner  \n",
       "0          57       2  \n",
       "1          58       2  \n",
       "2          42       2  \n",
       "3          59       2  \n",
       "4          25       1  \n",
       "...       ...     ...  \n",
       "2928       59       2  \n",
       "2929       42       2  \n",
       "2930       42       2  \n",
       "2931       60       2  \n",
       "2932       55       1  \n",
       "\n",
       "[2933 rows x 6 columns]"
      ]
     },
     "execution_count": 15,
     "metadata": {},
     "output_type": "execute_result"
    }
   ],
   "source": [
    "df.iloc[:]"
   ]
  },
  {
   "cell_type": "markdown",
   "id": "b8b65e94",
   "metadata": {},
   "source": [
    "## 2. Feature engineering"
   ]
  },
  {
   "cell_type": "markdown",
   "id": "a9a974d2",
   "metadata": {},
   "source": [
    "The data now is much cleaner, and we have some features that should be really important to understand the strength of each player, basically who won each match, by how many points and when was the match. But now we should transform that information in a way that it will be useful to train a machine learning model."
   ]
  },
  {
   "cell_type": "markdown",
   "id": "941aad8d",
   "metadata": {},
   "source": [
    "### 2.1 Transforming \"date\" to \"age\"\n",
    "\n",
    "As it is, the column \"date\" would be difficult to parse, so rather than a 'date', let's transform it into 'age', which will encode the number of days up to January 1st, 2022 (so older matches will have a larger 'age'). [The idea behind this is that more recent games should probably have a larger weight in predicting the outcome of future games] "
   ]
  },
  {
   "cell_type": "code",
   "execution_count": 16,
   "id": "795029c4",
   "metadata": {},
   "outputs": [],
   "source": [
    "# let's add column age\n",
    "\n",
    "date_format = \"%d-%m-%Y\"\n",
    "a = datetime.strptime('01-01-2022', date_format)\n",
    "\n",
    "df['age'] = [(a - datetime.strptime(date, date_format)).days for date in df.date]"
   ]
  },
  {
   "cell_type": "code",
   "execution_count": 17,
   "id": "e81a1ec6",
   "metadata": {},
   "outputs": [
    {
     "data": {
      "text/html": [
       "<div>\n",
       "<style scoped>\n",
       "    .dataframe tbody tr th:only-of-type {\n",
       "        vertical-align: middle;\n",
       "    }\n",
       "\n",
       "    .dataframe tbody tr th {\n",
       "        vertical-align: top;\n",
       "    }\n",
       "\n",
       "    .dataframe thead th {\n",
       "        text-align: right;\n",
       "    }\n",
       "</style>\n",
       "<table border=\"1\" class=\"dataframe\">\n",
       "  <thead>\n",
       "    <tr style=\"text-align: right;\">\n",
       "      <th></th>\n",
       "      <th>date</th>\n",
       "      <th>age</th>\n",
       "    </tr>\n",
       "  </thead>\n",
       "  <tbody>\n",
       "    <tr>\n",
       "      <th>2928</th>\n",
       "      <td>26-03-2021</td>\n",
       "      <td>281</td>\n",
       "    </tr>\n",
       "    <tr>\n",
       "      <th>2929</th>\n",
       "      <td>26-03-2021</td>\n",
       "      <td>281</td>\n",
       "    </tr>\n",
       "    <tr>\n",
       "      <th>2930</th>\n",
       "      <td>27-03-2021</td>\n",
       "      <td>280</td>\n",
       "    </tr>\n",
       "    <tr>\n",
       "      <th>2931</th>\n",
       "      <td>27-03-2021</td>\n",
       "      <td>280</td>\n",
       "    </tr>\n",
       "    <tr>\n",
       "      <th>2932</th>\n",
       "      <td>28-03-2021</td>\n",
       "      <td>279</td>\n",
       "    </tr>\n",
       "  </tbody>\n",
       "</table>\n",
       "</div>"
      ],
      "text/plain": [
       "            date  age\n",
       "2928  26-03-2021  281\n",
       "2929  26-03-2021  281\n",
       "2930  27-03-2021  280\n",
       "2931  27-03-2021  280\n",
       "2932  28-03-2021  279"
      ]
     },
     "execution_count": 17,
     "metadata": {},
     "output_type": "execute_result"
    }
   ],
   "source": [
    "# let's verify 'age' is fine (older games should have larger 'age')\n",
    "\n",
    "df[['date','age']].tail()"
   ]
  },
  {
   "cell_type": "code",
   "execution_count": 18,
   "id": "523c7355",
   "metadata": {},
   "outputs": [],
   "source": [
    "# we can now delete 'date'\n",
    "\n",
    "del df['date']"
   ]
  },
  {
   "cell_type": "markdown",
   "id": "0f654203",
   "metadata": {},
   "source": [
    "The data now looks much nicer and tidy"
   ]
  },
  {
   "cell_type": "code",
   "execution_count": 19,
   "id": "adceb40c",
   "metadata": {},
   "outputs": [
    {
     "data": {
      "text/html": [
       "<div>\n",
       "<style scoped>\n",
       "    .dataframe tbody tr th:only-of-type {\n",
       "        vertical-align: middle;\n",
       "    }\n",
       "\n",
       "    .dataframe tbody tr th {\n",
       "        vertical-align: top;\n",
       "    }\n",
       "\n",
       "    .dataframe thead th {\n",
       "        text-align: right;\n",
       "    }\n",
       "</style>\n",
       "<table border=\"1\" class=\"dataframe\">\n",
       "  <thead>\n",
       "    <tr style=\"text-align: right;\">\n",
       "      <th></th>\n",
       "      <th>player1</th>\n",
       "      <th>player2</th>\n",
       "      <th>points1</th>\n",
       "      <th>points2</th>\n",
       "      <th>winner</th>\n",
       "      <th>age</th>\n",
       "    </tr>\n",
       "  </thead>\n",
       "  <tbody>\n",
       "    <tr>\n",
       "      <th>0</th>\n",
       "      <td>benyapa_aimsaard</td>\n",
       "      <td>chasinee_korepap</td>\n",
       "      <td>51</td>\n",
       "      <td>57</td>\n",
       "      <td>2</td>\n",
       "      <td>1453</td>\n",
       "    </tr>\n",
       "    <tr>\n",
       "      <th>1</th>\n",
       "      <td>krestina_silich</td>\n",
       "      <td>nuntakarn_aimsaard</td>\n",
       "      <td>34</td>\n",
       "      <td>58</td>\n",
       "      <td>2</td>\n",
       "      <td>1453</td>\n",
       "    </tr>\n",
       "    <tr>\n",
       "      <th>2</th>\n",
       "      <td>piramon_chamnaktan</td>\n",
       "      <td>mattana_hemrachatanun</td>\n",
       "      <td>18</td>\n",
       "      <td>42</td>\n",
       "      <td>2</td>\n",
       "      <td>1453</td>\n",
       "    </tr>\n",
       "    <tr>\n",
       "      <th>3</th>\n",
       "      <td>supanida_katethong</td>\n",
       "      <td>manassanan_lerthattasin</td>\n",
       "      <td>54</td>\n",
       "      <td>59</td>\n",
       "      <td>2</td>\n",
       "      <td>1453</td>\n",
       "    </tr>\n",
       "    <tr>\n",
       "      <th>4</th>\n",
       "      <td>nitchaon_jindapol</td>\n",
       "      <td>nuntakarn_aimsaard</td>\n",
       "      <td>42</td>\n",
       "      <td>25</td>\n",
       "      <td>1</td>\n",
       "      <td>1452</td>\n",
       "    </tr>\n",
       "    <tr>\n",
       "      <th>...</th>\n",
       "      <td>...</td>\n",
       "      <td>...</td>\n",
       "      <td>...</td>\n",
       "      <td>...</td>\n",
       "      <td>...</td>\n",
       "      <td>...</td>\n",
       "    </tr>\n",
       "    <tr>\n",
       "      <th>2928</th>\n",
       "      <td>iris_wang</td>\n",
       "      <td>saina_nehwal</td>\n",
       "      <td>59</td>\n",
       "      <td>59</td>\n",
       "      <td>2</td>\n",
       "      <td>281</td>\n",
       "    </tr>\n",
       "    <tr>\n",
       "      <th>2929</th>\n",
       "      <td>ira_sharma</td>\n",
       "      <td>line_christophersen</td>\n",
       "      <td>19</td>\n",
       "      <td>42</td>\n",
       "      <td>2</td>\n",
       "      <td>281</td>\n",
       "    </tr>\n",
       "    <tr>\n",
       "      <th>2930</th>\n",
       "      <td>saina_nehwal</td>\n",
       "      <td>line_christophersen</td>\n",
       "      <td>34</td>\n",
       "      <td>42</td>\n",
       "      <td>2</td>\n",
       "      <td>280</td>\n",
       "    </tr>\n",
       "    <tr>\n",
       "      <th>2931</th>\n",
       "      <td>pornpawee_chochuwong</td>\n",
       "      <td>busanan_ongbamrungphan</td>\n",
       "      <td>54</td>\n",
       "      <td>60</td>\n",
       "      <td>2</td>\n",
       "      <td>280</td>\n",
       "    </tr>\n",
       "    <tr>\n",
       "      <th>2932</th>\n",
       "      <td>busanan_ongbamrungphan</td>\n",
       "      <td>line_christophersen</td>\n",
       "      <td>58</td>\n",
       "      <td>55</td>\n",
       "      <td>1</td>\n",
       "      <td>279</td>\n",
       "    </tr>\n",
       "  </tbody>\n",
       "</table>\n",
       "<p>2933 rows × 6 columns</p>\n",
       "</div>"
      ],
      "text/plain": [
       "                     player1                  player2  points1  points2  \\\n",
       "0           benyapa_aimsaard         chasinee_korepap       51       57   \n",
       "1            krestina_silich       nuntakarn_aimsaard       34       58   \n",
       "2         piramon_chamnaktan    mattana_hemrachatanun       18       42   \n",
       "3         supanida_katethong  manassanan_lerthattasin       54       59   \n",
       "4          nitchaon_jindapol       nuntakarn_aimsaard       42       25   \n",
       "...                      ...                      ...      ...      ...   \n",
       "2928               iris_wang             saina_nehwal       59       59   \n",
       "2929              ira_sharma      line_christophersen       19       42   \n",
       "2930            saina_nehwal      line_christophersen       34       42   \n",
       "2931    pornpawee_chochuwong   busanan_ongbamrungphan       54       60   \n",
       "2932  busanan_ongbamrungphan      line_christophersen       58       55   \n",
       "\n",
       "      winner   age  \n",
       "0          2  1453  \n",
       "1          2  1453  \n",
       "2          2  1453  \n",
       "3          2  1453  \n",
       "4          1  1452  \n",
       "...      ...   ...  \n",
       "2928       2   281  \n",
       "2929       2   281  \n",
       "2930       2   280  \n",
       "2931       2   280  \n",
       "2932       1   279  \n",
       "\n",
       "[2933 rows x 6 columns]"
      ]
     },
     "execution_count": 19,
     "metadata": {},
     "output_type": "execute_result"
    }
   ],
   "source": [
    "df.iloc[:]"
   ]
  },
  {
   "cell_type": "markdown",
   "id": "2df0a645",
   "metadata": {},
   "source": [
    "### 2.2 Calculating player strength columns"
   ]
  },
  {
   "cell_type": "markdown",
   "id": "102da7ec",
   "metadata": {},
   "source": [
    "This dataset is very different from the ones we have used in the course so far, because each row contains information only about a particular match, and in order to predict the outcome of a future match, we need some information about the global strength of each player, so we somehow have to integrate all the information about each player into one or several features."
   ]
  },
  {
   "cell_type": "markdown",
   "id": "01bbce56",
   "metadata": {},
   "source": [
    "#### 2.2.1 ELO rating\n",
    "\n",
    "A common measure of a player's strength used in chess is the ELO rating (see https://en.wikipedia.org/wiki/Elo_rating_system), which we are going to include in our dataset."
   ]
  },
  {
   "cell_type": "code",
   "execution_count": 20,
   "id": "508783ca",
   "metadata": {},
   "outputs": [],
   "source": [
    "\"\"\"\n",
    "Given ratings RA and RB, returns EA and EB \n",
    "  (expected probability of winning of player A and B, respectively) \n",
    "\"\"\"\n",
    "def expected(ra,rb):\n",
    "    ea = 1 / (1 + 10**((rb-ra)/400))\n",
    "    eb = 1 / (1 + 10**((ra-rb)/400))\n",
    "    return (ea,eb)\n",
    "\n",
    "\"\"\"\n",
    "Input: \n",
    "  RA, RB: ratings for players\n",
    "  SA, SB: score of players (0: lose, 1 win)\n",
    "  K     : ELO constant (the bigger, the larger movement of scores for each game)\n",
    "            10 was proposed originally by Elo, 24 is used nowadays\n",
    "Output:\n",
    "  RA_n, RB_n: the new ratings for both players\n",
    "\"\"\"\n",
    "def scores(ra,rb,sa,sb,k=24):\n",
    "    (ea,eb) = expected(ra,rb)\n",
    "    ra_n = ra + k * (sa - ea)\n",
    "    rb_n = rb + k * (sb - eb)\n",
    "    return (ra_n,rb_n)"
   ]
  },
  {
   "cell_type": "markdown",
   "id": "883cb9f9",
   "metadata": {},
   "source": [
    "We can see how ELO ratings work with the following example. If we have two players with the same ELO rating (e.g. 1500), and the first one wins, the new scores will be (1512,1488)."
   ]
  },
  {
   "cell_type": "code",
   "execution_count": 21,
   "id": "a8eca672",
   "metadata": {},
   "outputs": [
    {
     "data": {
      "text/plain": [
       "(1512.0, 1488.0)"
      ]
     },
     "execution_count": 21,
     "metadata": {},
     "output_type": "execute_result"
    }
   ],
   "source": [
    "scores(1500,1500,1,0)"
   ]
  },
  {
   "cell_type": "markdown",
   "id": "10aab768",
   "metadata": {},
   "source": [
    "If a strong player (ELO: 1900), plays a weaker player (ELO: 1400), we expect the first player to win. If this is the case, the points that the strong player wins (and which the weaker player loses) are only 1.3."
   ]
  },
  {
   "cell_type": "code",
   "execution_count": 22,
   "id": "bd78f70e",
   "metadata": {},
   "outputs": [
    {
     "data": {
      "text/plain": [
       "(1901.2777651648485, 1398.7222348351515)"
      ]
     },
     "execution_count": 22,
     "metadata": {},
     "output_type": "execute_result"
    }
   ],
   "source": [
    "scores(1900,1400,1,0)"
   ]
  },
  {
   "cell_type": "markdown",
   "id": "40f4047c",
   "metadata": {},
   "source": [
    "If the same two players play, but the winner is the weaker player, then the weaker player gets (and the stronger player loses) 22.7 points). "
   ]
  },
  {
   "cell_type": "code",
   "execution_count": 23,
   "id": "07b2751c",
   "metadata": {},
   "outputs": [
    {
     "data": {
      "text/plain": [
       "(1877.2777651648485, 1422.7222348351515)"
      ]
     },
     "execution_count": 23,
     "metadata": {},
     "output_type": "execute_result"
    }
   ],
   "source": [
    "scores(1900,1400,0,1)"
   ]
  },
  {
   "cell_type": "markdown",
   "id": "53694c55",
   "metadata": {},
   "source": [
    "#### 2.2.2 Adding ELO rating to our data"
   ]
  },
  {
   "cell_type": "markdown",
   "id": "e5ca2f6d",
   "metadata": {},
   "source": [
    "+ First, we need a list of all players "
   ]
  },
  {
   "cell_type": "code",
   "execution_count": 24,
   "id": "45b1c6aa",
   "metadata": {},
   "outputs": [],
   "source": [
    "p1 = df.player1.unique()\n",
    "p2 = df.player2.unique()\n",
    "all_players = np.unique(np.concatenate((p1,p2)))\n",
    "\n",
    "\"\"\"\n",
    "Given a player, return its index in the 'all_players' list\n",
    "\"\"\"\n",
    "def find_iloc(player):\n",
    "    return np.where(all_players == player)[0][0]"
   ]
  },
  {
   "cell_type": "markdown",
   "id": "99937187",
   "metadata": {},
   "source": [
    "+ Second, we consider all matches and update the ratings for all players according to the ELO formula above and their initial ratings (all 1500)"
   ]
  },
  {
   "cell_type": "code",
   "execution_count": 25,
   "id": "19c3b620",
   "metadata": {},
   "outputs": [],
   "source": [
    "ratings = np.full((len(all_players)),1500)\n",
    "\n",
    "for i in range(df.age.shape[0]):\n",
    "    p1i = find_iloc(df.player1[i])\n",
    "    p2i = find_iloc(df.player2[i])\n",
    "    r1 = ratings[p1i]\n",
    "    r2 = ratings[p2i]\n",
    "    if df.points1[i] > df.points2[i]:\n",
    "        s1 = 1 \n",
    "        s2 = 0\n",
    "    else:\n",
    "        s1 = 0\n",
    "        s2 = 1\n",
    "        \n",
    "    r1n,r2n = scores(r1,r2,s1,s2)\n",
    "    ratings[p1i] = r1n\n",
    "    ratings[p2i] = r2n        "
   ]
  },
  {
   "cell_type": "markdown",
   "id": "2a7cf75c",
   "metadata": {},
   "source": [
    "+ Third, let's add ELO ratings for each player for each match"
   ]
  },
  {
   "cell_type": "code",
   "execution_count": 26,
   "id": "d84fc6f1",
   "metadata": {},
   "outputs": [],
   "source": [
    "elo1 = [0] * df.age.shape[0]\n",
    "elo2 = [0] * df.age.shape[0]\n",
    "\n",
    "for i in range(df.age.shape[0]):\n",
    "    p1i = find_iloc(df.player1[i])\n",
    "    p2i = find_iloc(df.player2[i])\n",
    "    elo1[i] = ratings[p1i]\n",
    "    elo2[i] = ratings[p2i]\n",
    "\n",
    "df[\"elo1\"] = elo1\n",
    "df[\"elo2\"] = elo2"
   ]
  },
  {
   "cell_type": "markdown",
   "id": "ed2dec72",
   "metadata": {},
   "source": [
    "We now have ELO data (calculated based on all matches data available) for each player."
   ]
  },
  {
   "cell_type": "code",
   "execution_count": 27,
   "id": "87065dd4",
   "metadata": {},
   "outputs": [
    {
     "data": {
      "text/html": [
       "<div>\n",
       "<style scoped>\n",
       "    .dataframe tbody tr th:only-of-type {\n",
       "        vertical-align: middle;\n",
       "    }\n",
       "\n",
       "    .dataframe tbody tr th {\n",
       "        vertical-align: top;\n",
       "    }\n",
       "\n",
       "    .dataframe thead th {\n",
       "        text-align: right;\n",
       "    }\n",
       "</style>\n",
       "<table border=\"1\" class=\"dataframe\">\n",
       "  <thead>\n",
       "    <tr style=\"text-align: right;\">\n",
       "      <th></th>\n",
       "      <th>player1</th>\n",
       "      <th>player2</th>\n",
       "      <th>points1</th>\n",
       "      <th>points2</th>\n",
       "      <th>winner</th>\n",
       "      <th>age</th>\n",
       "      <th>elo1</th>\n",
       "      <th>elo2</th>\n",
       "    </tr>\n",
       "  </thead>\n",
       "  <tbody>\n",
       "    <tr>\n",
       "      <th>0</th>\n",
       "      <td>benyapa_aimsaard</td>\n",
       "      <td>chasinee_korepap</td>\n",
       "      <td>51</td>\n",
       "      <td>57</td>\n",
       "      <td>2</td>\n",
       "      <td>1453</td>\n",
       "      <td>1479</td>\n",
       "      <td>1499</td>\n",
       "    </tr>\n",
       "    <tr>\n",
       "      <th>1</th>\n",
       "      <td>krestina_silich</td>\n",
       "      <td>nuntakarn_aimsaard</td>\n",
       "      <td>34</td>\n",
       "      <td>58</td>\n",
       "      <td>2</td>\n",
       "      <td>1453</td>\n",
       "      <td>1488</td>\n",
       "      <td>1426</td>\n",
       "    </tr>\n",
       "    <tr>\n",
       "      <th>2</th>\n",
       "      <td>piramon_chamnaktan</td>\n",
       "      <td>mattana_hemrachatanun</td>\n",
       "      <td>18</td>\n",
       "      <td>42</td>\n",
       "      <td>2</td>\n",
       "      <td>1453</td>\n",
       "      <td>1488</td>\n",
       "      <td>1487</td>\n",
       "    </tr>\n",
       "    <tr>\n",
       "      <th>3</th>\n",
       "      <td>supanida_katethong</td>\n",
       "      <td>manassanan_lerthattasin</td>\n",
       "      <td>54</td>\n",
       "      <td>59</td>\n",
       "      <td>2</td>\n",
       "      <td>1453</td>\n",
       "      <td>1553</td>\n",
       "      <td>1508</td>\n",
       "    </tr>\n",
       "    <tr>\n",
       "      <th>4</th>\n",
       "      <td>nitchaon_jindapol</td>\n",
       "      <td>nuntakarn_aimsaard</td>\n",
       "      <td>42</td>\n",
       "      <td>25</td>\n",
       "      <td>1</td>\n",
       "      <td>1452</td>\n",
       "      <td>1531</td>\n",
       "      <td>1426</td>\n",
       "    </tr>\n",
       "    <tr>\n",
       "      <th>...</th>\n",
       "      <td>...</td>\n",
       "      <td>...</td>\n",
       "      <td>...</td>\n",
       "      <td>...</td>\n",
       "      <td>...</td>\n",
       "      <td>...</td>\n",
       "      <td>...</td>\n",
       "      <td>...</td>\n",
       "    </tr>\n",
       "    <tr>\n",
       "      <th>2928</th>\n",
       "      <td>iris_wang</td>\n",
       "      <td>saina_nehwal</td>\n",
       "      <td>59</td>\n",
       "      <td>59</td>\n",
       "      <td>2</td>\n",
       "      <td>281</td>\n",
       "      <td>1521</td>\n",
       "      <td>1542</td>\n",
       "    </tr>\n",
       "    <tr>\n",
       "      <th>2929</th>\n",
       "      <td>ira_sharma</td>\n",
       "      <td>line_christophersen</td>\n",
       "      <td>19</td>\n",
       "      <td>42</td>\n",
       "      <td>2</td>\n",
       "      <td>281</td>\n",
       "      <td>1479</td>\n",
       "      <td>1572</td>\n",
       "    </tr>\n",
       "    <tr>\n",
       "      <th>2930</th>\n",
       "      <td>saina_nehwal</td>\n",
       "      <td>line_christophersen</td>\n",
       "      <td>34</td>\n",
       "      <td>42</td>\n",
       "      <td>2</td>\n",
       "      <td>280</td>\n",
       "      <td>1542</td>\n",
       "      <td>1572</td>\n",
       "    </tr>\n",
       "    <tr>\n",
       "      <th>2931</th>\n",
       "      <td>pornpawee_chochuwong</td>\n",
       "      <td>busanan_ongbamrungphan</td>\n",
       "      <td>54</td>\n",
       "      <td>60</td>\n",
       "      <td>2</td>\n",
       "      <td>280</td>\n",
       "      <td>1650</td>\n",
       "      <td>1627</td>\n",
       "    </tr>\n",
       "    <tr>\n",
       "      <th>2932</th>\n",
       "      <td>busanan_ongbamrungphan</td>\n",
       "      <td>line_christophersen</td>\n",
       "      <td>58</td>\n",
       "      <td>55</td>\n",
       "      <td>1</td>\n",
       "      <td>279</td>\n",
       "      <td>1627</td>\n",
       "      <td>1572</td>\n",
       "    </tr>\n",
       "  </tbody>\n",
       "</table>\n",
       "<p>2933 rows × 8 columns</p>\n",
       "</div>"
      ],
      "text/plain": [
       "                     player1                  player2  points1  points2  \\\n",
       "0           benyapa_aimsaard         chasinee_korepap       51       57   \n",
       "1            krestina_silich       nuntakarn_aimsaard       34       58   \n",
       "2         piramon_chamnaktan    mattana_hemrachatanun       18       42   \n",
       "3         supanida_katethong  manassanan_lerthattasin       54       59   \n",
       "4          nitchaon_jindapol       nuntakarn_aimsaard       42       25   \n",
       "...                      ...                      ...      ...      ...   \n",
       "2928               iris_wang             saina_nehwal       59       59   \n",
       "2929              ira_sharma      line_christophersen       19       42   \n",
       "2930            saina_nehwal      line_christophersen       34       42   \n",
       "2931    pornpawee_chochuwong   busanan_ongbamrungphan       54       60   \n",
       "2932  busanan_ongbamrungphan      line_christophersen       58       55   \n",
       "\n",
       "      winner   age  elo1  elo2  \n",
       "0          2  1453  1479  1499  \n",
       "1          2  1453  1488  1426  \n",
       "2          2  1453  1488  1487  \n",
       "3          2  1453  1553  1508  \n",
       "4          1  1452  1531  1426  \n",
       "...      ...   ...   ...   ...  \n",
       "2928       2   281  1521  1542  \n",
       "2929       2   281  1479  1572  \n",
       "2930       2   280  1542  1572  \n",
       "2931       2   280  1650  1627  \n",
       "2932       1   279  1627  1572  \n",
       "\n",
       "[2933 rows x 8 columns]"
      ]
     },
     "execution_count": 27,
     "metadata": {},
     "output_type": "execute_result"
    }
   ],
   "source": [
    "df.iloc[:]"
   ]
  },
  {
   "cell_type": "markdown",
   "id": "f3e8ef9c",
   "metadata": {},
   "source": [
    "#### 2.2.3 Adding ELO gradient "
   ]
  },
  {
   "cell_type": "markdown",
   "id": "efafc132",
   "metadata": {},
   "source": [
    "Although not usually taken into account, we can also calculate an ELO gradient for each match (i.e. a measure of whether when that match happened the ELO progression for that player was increasing or decreasing)."
   ]
  },
  {
   "cell_type": "markdown",
   "id": "fb041ced",
   "metadata": {},
   "source": [
    "As an example, in the case of player \"Joy Xuan Deng\", we can see an increase in her ELO rating for the first half of the matches, while a quick decrease in the second half. This information could probably be relevant to make better predictions."
   ]
  },
  {
   "cell_type": "code",
   "execution_count": 28,
   "id": "55f200a0",
   "metadata": {},
   "outputs": [],
   "source": [
    "\"\"\"\n",
    "Calculate the ELO ratings throughout the period covered by the dataset\n",
    " for a given player.\n",
    "\n",
    "Output: list of ELO ratings, ordered by age (first in the list is the oldest)\n",
    "\"\"\"\n",
    "def rating_progress(player):\n",
    "    rating_player = np.full(df.age.shape[0],0)\n",
    "    rating_player[0] = 1500\n",
    "    ratings = np.full((len(all_players)),1500)\n",
    "\n",
    "    for i in range(df.age.shape[0]):\n",
    "        p1i = find_iloc(df.player1[i])\n",
    "        p2i = find_iloc(df.player2[i])\n",
    "        r1 = ratings[p1i]\n",
    "        r2 = ratings[p2i]\n",
    "        if df.points1[i] > df.points2[i]:\n",
    "            s1 = 1 \n",
    "            s2 = 0\n",
    "        else:\n",
    "            s1 = 0\n",
    "            s2 = 1\n",
    "\n",
    "        r1n,r2n = scores(r1,r2,s1,s2)\n",
    "        ratings[p1i] = r1n\n",
    "        ratings[p2i] = r2n        \n",
    "        if df.player1[i] == player:\n",
    "            rating_player[i] = r1n\n",
    "        elif df.player2[i] == player:\n",
    "            rating_player[i] = r2n\n",
    "        else:\n",
    "            if i > 0:\n",
    "                rating_player[i] = rating_player[i-1]\n",
    "    \n",
    "    return rating_player"
   ]
  },
  {
   "cell_type": "code",
   "execution_count": 29,
   "id": "b83df4f2",
   "metadata": {},
   "outputs": [
    {
     "data": {
      "text/plain": [
       "[<matplotlib.lines.Line2D at 0x7f28f3563370>]"
      ]
     },
     "execution_count": 29,
     "metadata": {},
     "output_type": "execute_result"
    },
    {
     "data": {
      "image/png": "[encoded data removed]",
      "text/plain": [
       "<Figure size 432x288 with 1 Axes>"
      ]
     },
     "metadata": {
      "needs_background": "light"
     },
     "output_type": "display_data"
    }
   ],
   "source": [
    "player_rating_progress = rating_progress(\"joy_xuan_deng\")\n",
    "\n",
    "plt.title(f'ELO rating progress for player joy_xuan_deng')\n",
    "plt.plot(player_rating_progress)"
   ]
  },
  {
   "cell_type": "markdown",
   "id": "a03e561e",
   "metadata": {},
   "source": [
    "So, let's calculate for each match, the ELO gradient for each player"
   ]
  },
  {
   "cell_type": "code",
   "execution_count": 30,
   "id": "63c87d5f",
   "metadata": {},
   "outputs": [
    {
     "name": "stderr",
     "output_type": "stream",
     "text": [
      "<ipython-input-30-977609a9a123>:27: SettingWithCopyWarning: \n",
      "A value is trying to be set on a copy of a slice from a DataFrame\n",
      "\n",
      "See the caveats in the documentation: https://pandas.pydata.org/pandas-docs/stable/user_guide/indexing.html#returning-a-view-versus-a-copy\n",
      "  df.grad1[i] = gradient[p1i]\n",
      "<ipython-input-30-977609a9a123>:28: SettingWithCopyWarning: \n",
      "A value is trying to be set on a copy of a slice from a DataFrame\n",
      "\n",
      "See the caveats in the documentation: https://pandas.pydata.org/pandas-docs/stable/user_guide/indexing.html#returning-a-view-versus-a-copy\n",
      "  df.grad2[i] = gradient[p2i]\n"
     ]
    }
   ],
   "source": [
    "ratings  = np.full((len(all_players)),1500.)\n",
    "delta    = np.full((len(all_players)),0.)    # for each match we store the change in the ELO rating\n",
    "gradient = np.full((len(all_players)),0.)    # the change in the previous match is the gradient to take into\n",
    "                                             #    consideration for the current match\n",
    "df[\"grad1\"] = [0] * df.age.shape[0]\n",
    "df[\"grad2\"] = [0] * df.age.shape[0]\n",
    "\n",
    "for i in range(df.age.shape[0]):\n",
    "    p1i = find_iloc(df.player1[i])\n",
    "    p2i = find_iloc(df.player2[i])\n",
    "    r1 = ratings[p1i]\n",
    "    r2 = ratings[p2i]\n",
    "    if df.points1[i] > df.points2[i]:\n",
    "        s1 = 1 \n",
    "        s2 = 0\n",
    "    else:\n",
    "        s1 = 0\n",
    "        s2 = 1\n",
    "        \n",
    "    r1n,r2n = scores(r1,r2,s1,s2)\n",
    "    ratings[p1i] = r1n\n",
    "    ratings[p2i] = r2n        \n",
    "\n",
    "    if i > 0:\n",
    "        gradient[p1i] = delta[p1i]\n",
    "        gradient[p2i] = delta[p2i]\n",
    "        df.grad1[i] = gradient[p1i] \n",
    "        df.grad2[i] = gradient[p2i] \n",
    "        \n",
    "    delta[p1i] = r1n - r1\n",
    "    delta[p2i] = r2n - r2"
   ]
  },
  {
   "cell_type": "markdown",
   "id": "0790e8cb",
   "metadata": {},
   "source": [
    "We can now see the ELO gradients for player \"Joy Xuan Deng\", which started off quite well, but in the latest matches were always negative."
   ]
  },
  {
   "cell_type": "code",
   "execution_count": 31,
   "id": "52e61039",
   "metadata": {},
   "outputs": [],
   "source": [
    "player=\"joy_xuan_deng\"\n",
    "gradients_player = np.full(df.age.shape[0],0)\n",
    "\n",
    "for i in range(df.age.shape[0]):\n",
    "    if df.player1[i] == player:\n",
    "        gradients_player[i] = df.grad1[i]\n",
    "    elif df.player2[i] == player:\n",
    "        gradients_player[i] = df.grad2[i]\n",
    "    else:\n",
    "        if i > 0:\n",
    "            gradients_player[i] = gradients_player[i-1]            "
   ]
  },
  {
   "cell_type": "code",
   "execution_count": 32,
   "id": "13e27f00",
   "metadata": {},
   "outputs": [
    {
     "data": {
      "text/plain": [
       "[<matplotlib.lines.Line2D at 0x7f28d66dda90>]"
      ]
     },
     "execution_count": 32,
     "metadata": {},
     "output_type": "execute_result"
    },
    {
     "data": {
      "image/png": "[encoded data removed]",
      "text/plain": [
       "<Figure size 432x288 with 1 Axes>"
      ]
     },
     "metadata": {
      "needs_background": "light"
     },
     "output_type": "display_data"
    }
   ],
   "source": [
    "plt.title(f'ELO gradients for player joy_xuan_deng')\n",
    "plt.plot(gradients_player,'ro')"
   ]
  },
  {
   "cell_type": "markdown",
   "id": "abcc420a",
   "metadata": {},
   "source": [
    "Other features could probably be calculated to better inform the model (for example, personalized ELOs, i.e. ELO rating but only for matches between the players under consideration, etc.), but for the current project this is probably enough. \n",
    "\n",
    "The final dataset then looks like the following:"
   ]
  },
  {
   "cell_type": "code",
   "execution_count": 33,
   "id": "c980cd1d",
   "metadata": {},
   "outputs": [
    {
     "data": {
      "text/html": [
       "<div>\n",
       "<style scoped>\n",
       "    .dataframe tbody tr th:only-of-type {\n",
       "        vertical-align: middle;\n",
       "    }\n",
       "\n",
       "    .dataframe tbody tr th {\n",
       "        vertical-align: top;\n",
       "    }\n",
       "\n",
       "    .dataframe thead th {\n",
       "        text-align: right;\n",
       "    }\n",
       "</style>\n",
       "<table border=\"1\" class=\"dataframe\">\n",
       "  <thead>\n",
       "    <tr style=\"text-align: right;\">\n",
       "      <th></th>\n",
       "      <th>player1</th>\n",
       "      <th>player2</th>\n",
       "      <th>points1</th>\n",
       "      <th>points2</th>\n",
       "      <th>winner</th>\n",
       "      <th>age</th>\n",
       "      <th>elo1</th>\n",
       "      <th>elo2</th>\n",
       "      <th>grad1</th>\n",
       "      <th>grad2</th>\n",
       "    </tr>\n",
       "  </thead>\n",
       "  <tbody>\n",
       "    <tr>\n",
       "      <th>0</th>\n",
       "      <td>benyapa_aimsaard</td>\n",
       "      <td>chasinee_korepap</td>\n",
       "      <td>51</td>\n",
       "      <td>57</td>\n",
       "      <td>2</td>\n",
       "      <td>1453</td>\n",
       "      <td>1479</td>\n",
       "      <td>1499</td>\n",
       "      <td>0.000000</td>\n",
       "      <td>0.000000</td>\n",
       "    </tr>\n",
       "    <tr>\n",
       "      <th>1</th>\n",
       "      <td>krestina_silich</td>\n",
       "      <td>nuntakarn_aimsaard</td>\n",
       "      <td>34</td>\n",
       "      <td>58</td>\n",
       "      <td>2</td>\n",
       "      <td>1453</td>\n",
       "      <td>1488</td>\n",
       "      <td>1426</td>\n",
       "      <td>0.000000</td>\n",
       "      <td>0.000000</td>\n",
       "    </tr>\n",
       "    <tr>\n",
       "      <th>2</th>\n",
       "      <td>piramon_chamnaktan</td>\n",
       "      <td>mattana_hemrachatanun</td>\n",
       "      <td>18</td>\n",
       "      <td>42</td>\n",
       "      <td>2</td>\n",
       "      <td>1453</td>\n",
       "      <td>1488</td>\n",
       "      <td>1487</td>\n",
       "      <td>0.000000</td>\n",
       "      <td>0.000000</td>\n",
       "    </tr>\n",
       "    <tr>\n",
       "      <th>3</th>\n",
       "      <td>supanida_katethong</td>\n",
       "      <td>manassanan_lerthattasin</td>\n",
       "      <td>54</td>\n",
       "      <td>59</td>\n",
       "      <td>2</td>\n",
       "      <td>1453</td>\n",
       "      <td>1553</td>\n",
       "      <td>1508</td>\n",
       "      <td>0.000000</td>\n",
       "      <td>0.000000</td>\n",
       "    </tr>\n",
       "    <tr>\n",
       "      <th>4</th>\n",
       "      <td>nitchaon_jindapol</td>\n",
       "      <td>nuntakarn_aimsaard</td>\n",
       "      <td>42</td>\n",
       "      <td>25</td>\n",
       "      <td>1</td>\n",
       "      <td>1452</td>\n",
       "      <td>1531</td>\n",
       "      <td>1426</td>\n",
       "      <td>0.000000</td>\n",
       "      <td>12.000000</td>\n",
       "    </tr>\n",
       "    <tr>\n",
       "      <th>...</th>\n",
       "      <td>...</td>\n",
       "      <td>...</td>\n",
       "      <td>...</td>\n",
       "      <td>...</td>\n",
       "      <td>...</td>\n",
       "      <td>...</td>\n",
       "      <td>...</td>\n",
       "      <td>...</td>\n",
       "      <td>...</td>\n",
       "      <td>...</td>\n",
       "    </tr>\n",
       "    <tr>\n",
       "      <th>2928</th>\n",
       "      <td>iris_wang</td>\n",
       "      <td>saina_nehwal</td>\n",
       "      <td>59</td>\n",
       "      <td>59</td>\n",
       "      <td>2</td>\n",
       "      <td>281</td>\n",
       "      <td>1521</td>\n",
       "      <td>1542</td>\n",
       "      <td>10.582417</td>\n",
       "      <td>11.824876</td>\n",
       "    </tr>\n",
       "    <tr>\n",
       "      <th>2929</th>\n",
       "      <td>ira_sharma</td>\n",
       "      <td>line_christophersen</td>\n",
       "      <td>19</td>\n",
       "      <td>42</td>\n",
       "      <td>2</td>\n",
       "      <td>281</td>\n",
       "      <td>1479</td>\n",
       "      <td>1572</td>\n",
       "      <td>11.118792</td>\n",
       "      <td>7.333730</td>\n",
       "    </tr>\n",
       "    <tr>\n",
       "      <th>2930</th>\n",
       "      <td>saina_nehwal</td>\n",
       "      <td>line_christophersen</td>\n",
       "      <td>34</td>\n",
       "      <td>42</td>\n",
       "      <td>2</td>\n",
       "      <td>280</td>\n",
       "      <td>1542</td>\n",
       "      <td>1572</td>\n",
       "      <td>11.268377</td>\n",
       "      <td>9.082124</td>\n",
       "    </tr>\n",
       "    <tr>\n",
       "      <th>2931</th>\n",
       "      <td>pornpawee_chochuwong</td>\n",
       "      <td>busanan_ongbamrungphan</td>\n",
       "      <td>54</td>\n",
       "      <td>60</td>\n",
       "      <td>2</td>\n",
       "      <td>280</td>\n",
       "      <td>1650</td>\n",
       "      <td>1627</td>\n",
       "      <td>8.337433</td>\n",
       "      <td>8.851760</td>\n",
       "    </tr>\n",
       "    <tr>\n",
       "      <th>2932</th>\n",
       "      <td>busanan_ongbamrungphan</td>\n",
       "      <td>line_christophersen</td>\n",
       "      <td>58</td>\n",
       "      <td>55</td>\n",
       "      <td>1</td>\n",
       "      <td>279</td>\n",
       "      <td>1627</td>\n",
       "      <td>1572</td>\n",
       "      <td>14.097268</td>\n",
       "      <td>11.906590</td>\n",
       "    </tr>\n",
       "  </tbody>\n",
       "</table>\n",
       "<p>2933 rows × 10 columns</p>\n",
       "</div>"
      ],
      "text/plain": [
       "                     player1                  player2  points1  points2  \\\n",
       "0           benyapa_aimsaard         chasinee_korepap       51       57   \n",
       "1            krestina_silich       nuntakarn_aimsaard       34       58   \n",
       "2         piramon_chamnaktan    mattana_hemrachatanun       18       42   \n",
       "3         supanida_katethong  manassanan_lerthattasin       54       59   \n",
       "4          nitchaon_jindapol       nuntakarn_aimsaard       42       25   \n",
       "...                      ...                      ...      ...      ...   \n",
       "2928               iris_wang             saina_nehwal       59       59   \n",
       "2929              ira_sharma      line_christophersen       19       42   \n",
       "2930            saina_nehwal      line_christophersen       34       42   \n",
       "2931    pornpawee_chochuwong   busanan_ongbamrungphan       54       60   \n",
       "2932  busanan_ongbamrungphan      line_christophersen       58       55   \n",
       "\n",
       "      winner   age  elo1  elo2      grad1      grad2  \n",
       "0          2  1453  1479  1499   0.000000   0.000000  \n",
       "1          2  1453  1488  1426   0.000000   0.000000  \n",
       "2          2  1453  1488  1487   0.000000   0.000000  \n",
       "3          2  1453  1553  1508   0.000000   0.000000  \n",
       "4          1  1452  1531  1426   0.000000  12.000000  \n",
       "...      ...   ...   ...   ...        ...        ...  \n",
       "2928       2   281  1521  1542  10.582417  11.824876  \n",
       "2929       2   281  1479  1572  11.118792   7.333730  \n",
       "2930       2   280  1542  1572  11.268377   9.082124  \n",
       "2931       2   280  1650  1627   8.337433   8.851760  \n",
       "2932       1   279  1627  1572  14.097268  11.906590  \n",
       "\n",
       "[2933 rows x 10 columns]"
      ]
     },
     "execution_count": 33,
     "metadata": {},
     "output_type": "execute_result"
    }
   ],
   "source": [
    "df"
   ]
  },
  {
   "cell_type": "markdown",
   "id": "3c44fcf5",
   "metadata": {},
   "source": [
    "## 3. Model training"
   ]
  },
  {
   "cell_type": "markdown",
   "id": "c42dd876",
   "metadata": {},
   "source": [
    "### 3.1 Validation framework \n",
    "\n",
    "We will split the data in three set: *train*, *val* and *test* (60%, 20% and 20% of the data, respectively).\n",
    "\n",
    "*train_full* will be used in the last stage, to train the model with 80% of the data. \n",
    "\n",
    "The target variable is **winner**, and for the training data (**X_train**, **X_val**, etc.) we remove the names of the players and the number of points obtained in a match, since that only affects a particular match, and they do not represent a player's playing strength, which is the information that the model can use to predict a future match."
   ]
  },
  {
   "cell_type": "code",
   "execution_count": 34,
   "id": "ab05f28f",
   "metadata": {},
   "outputs": [],
   "source": [
    "df_train_full, df_test = train_test_split(df, test_size=0.2, random_state=42)\n",
    "df_train, df_val = train_test_split(df_train_full, test_size=0.25, random_state=42)\n",
    "\n",
    "# We create a copy of df_train_full, because we will need to keep all the columns for later processing\n",
    "df_train_full_base = df_train_full.copy()\n",
    "\n",
    "y_train_full = df_train_full.winner.to_numpy()\n",
    "y_train = df_train.winner.to_numpy()\n",
    "y_val = df_val.winner.to_numpy()\n",
    "y_test = df_test.winner.to_numpy()\n",
    "\n",
    "del df_train_full['player1']\n",
    "del df_train['player1']\n",
    "del df_val['player1']\n",
    "del df_test['player1']\n",
    "\n",
    "del df_train_full['player2']\n",
    "del df_train['player2']\n",
    "del df_val['player2']\n",
    "del df_test['player2']\n",
    "\n",
    "del df_train_full['points1']\n",
    "del df_train['points1']\n",
    "del df_val['points1']\n",
    "del df_test['points1']\n",
    "\n",
    "del df_train_full['points2']\n",
    "del df_train['points2']\n",
    "del df_val['points2']\n",
    "del df_test['points2']\n",
    "\n",
    "del df_train_full['winner']\n",
    "del df_train['winner']\n",
    "del df_val['winner']\n",
    "del df_test['winner']\n",
    "\n",
    "X_train_full = df_train_full.to_numpy()\n",
    "X_train = df_train.to_numpy()\n",
    "X_val  = df_val.to_numpy()\n",
    "X_test  = df_test.to_numpy()"
   ]
  },
  {
   "cell_type": "markdown",
   "id": "3728b7f8",
   "metadata": {},
   "source": [
    "### 3.2 Logistic Regression"
   ]
  },
  {
   "cell_type": "markdown",
   "id": "0bc2632e",
   "metadata": {},
   "source": [
    "Training a logistic regression model and getting winner predictions is trivial using Scikit-learn package"
   ]
  },
  {
   "cell_type": "code",
   "execution_count": 35,
   "id": "a6569ec3",
   "metadata": {},
   "outputs": [],
   "source": [
    "model = LogisticRegression(solver=\"liblinear\", C=1.0, max_iter=1000, random_state=42)\n",
    "model.fit(X_train, y_train)\n",
    "\n",
    "y_pred = model.predict(X_val)"
   ]
  },
  {
   "cell_type": "markdown",
   "id": "a42956f8",
   "metadata": {},
   "source": [
    "#### 3.2.1 Baseline model performance"
   ]
  },
  {
   "cell_type": "markdown",
   "id": "65c8cb72",
   "metadata": {},
   "source": [
    "+ Let's first look at the **confusion matrix**, which shows us that when the winner is the first player, the model predicts this in most cases (251), but it predicts the second player as winner in 61 cases. We have similar values for the cases when the winner is player 2. In this case, the model fails to predict this in 87 cases, but it predicts player 2 as correct in 188 cases."
   ]
  },
  {
   "cell_type": "code",
   "execution_count": 36,
   "id": "d332947f",
   "metadata": {},
   "outputs": [
    {
     "data": {
      "text/plain": [
       "array([[251,  61],\n",
       "       [ 87, 188]])"
      ]
     },
     "execution_count": 36,
     "metadata": {},
     "output_type": "execute_result"
    }
   ],
   "source": [
    "confusion_matrix(y_val, y_pred)"
   ]
  },
  {
   "cell_type": "markdown",
   "id": "f98c2363",
   "metadata": {},
   "source": [
    "+ A good metric in this case is **acuracy_score**, which will give us the percentage of cases when the model was able to predict correctly the winner."
   ]
  },
  {
   "cell_type": "code",
   "execution_count": 37,
   "id": "30481d36",
   "metadata": {},
   "outputs": [
    {
     "name": "stdout",
     "output_type": "stream",
     "text": [
      "Accuracy score = 0.748\n"
     ]
    }
   ],
   "source": [
    "acc_score = accuracy_score(y_pred, y_val)\n",
    "print('Accuracy score = %.3f' % acc_score)"
   ]
  },
  {
   "cell_type": "markdown",
   "id": "8f7f13a3",
   "metadata": {},
   "source": [
    "+ We see that in this case the **roc_auc_score** gives a very similar value, and that the **ROC curve** has a more or less common pattern, though I think in this case **acuracy_score** is more intuitive, so from now on I will use it to measure the performance of the next models."
   ]
  },
  {
   "cell_type": "code",
   "execution_count": 38,
   "id": "770f04aa",
   "metadata": {},
   "outputs": [
    {
     "name": "stdout",
     "output_type": "stream",
     "text": [
      "AUC = 0.744\n"
     ]
    }
   ],
   "source": [
    "auc = roc_auc_score(y_val, y_pred)\n",
    "print('AUC = %.3f' % auc)"
   ]
  },
  {
   "cell_type": "code",
   "execution_count": 39,
   "id": "ecb6c865",
   "metadata": {},
   "outputs": [
    {
     "data": {
      "image/png": "[encoded data removed]",
      "text/plain": [
       "<Figure size 360x360 with 1 Axes>"
      ]
     },
     "metadata": {
      "needs_background": "light"
     },
     "output_type": "display_data"
    }
   ],
   "source": [
    "fpr, tpr, thresholds = roc_curve(y_val -1 , y_pred -1)\n",
    "plt.figure(figsize=(5, 5))\n",
    "\n",
    "plt.plot(fpr, tpr, color='black')\n",
    "plt.plot([0, 1], [0, 1], color='black', lw=0.7, linestyle='dashed', alpha=0.5)\n",
    "\n",
    "plt.xlim([-0.02, 1.02])\n",
    "plt.ylim([-0.02, 1.02])\n",
    "plt.xlabel('False Positive Rate')\n",
    "plt.ylabel('True Positive Rate')\n",
    "\n",
    "plt.title('ROC curve')\n",
    "\n",
    "plt.show()"
   ]
  },
  {
   "cell_type": "markdown",
   "id": "aec10572",
   "metadata": {},
   "source": [
    "#### 3.2.2 Can we improve performance by using different regularization parameters?\n",
    "\n",
    "We will test this while also using **KFold** for cross-validation. As we can see, the *standard deviation* between different sets provided by *KFold* is very small. On the other hand, for this particular model, the regularization parameter seems to have no influence whatsoever, obtaining in all cases a mean accuracy score of 0.74."
   ]
  },
  {
   "cell_type": "code",
   "execution_count": 40,
   "id": "479b0533",
   "metadata": {},
   "outputs": [
    {
     "name": "stdout",
     "output_type": "stream",
     "text": [
      "C=0.01 0.736 +- 0.010\n",
      "C=0.1 0.736 +- 0.010\n",
      "C=1 0.736 +- 0.010\n",
      "C=10 0.736 +- 0.010\n"
     ]
    }
   ],
   "source": [
    "for C in [0.01, 0.1, 1, 10]:\n",
    "\n",
    "    kfold = KFold(n_splits=5, shuffle=True, random_state=42)\n",
    "\n",
    "    accuracy_scores = []    \n",
    "    \n",
    "    for train_idx, val_idx in kfold.split(df_train_full):\n",
    "        df_t = df_train_full.iloc[train_idx]\n",
    "        df_v = df_train_full.iloc[val_idx]\n",
    "\n",
    "        y_t = df_train_full_base.winner.iloc[train_idx].to_numpy()\n",
    "        y_v   = df_train_full_base.winner.iloc[val_idx].to_numpy()\n",
    "\n",
    "        X_t = df_t.to_numpy()\n",
    "        X_v = df_v.to_numpy()\n",
    "\n",
    "        model = LogisticRegression(solver='liblinear', C=C, max_iter=1000, random_state=42)\n",
    "        model.fit(X_t, y_t)\n",
    "\n",
    "        y_p = model.predict(X_v)\n",
    "\n",
    "        acc_score = accuracy_score(y_p, y_v)\n",
    "        accuracy_scores.append(acc_score)\n",
    "        \n",
    "    print('C=%s %.3f +- %.3f' % (C, np.mean(accuracy_scores), np.std(accuracy_scores)))"
   ]
  },
  {
   "cell_type": "markdown",
   "id": "5dd1dab3",
   "metadata": {},
   "source": [
    "### 3.3 Decision Trees"
   ]
  },
  {
   "cell_type": "markdown",
   "id": "458316b1",
   "metadata": {},
   "source": [
    "We use here the **DecisionTreeClassifier**, useful for classification cases when our target variable is of type *integer*.\n",
    "\n",
    "When used with the default parameters, we see that the accuracy of the model is worse than for the LinearRegression model."
   ]
  },
  {
   "cell_type": "code",
   "execution_count": 41,
   "id": "8aed0826",
   "metadata": {},
   "outputs": [
    {
     "name": "stdout",
     "output_type": "stream",
     "text": [
      "Accuracy Decision tree model (default parameters): 0.663\n"
     ]
    }
   ],
   "source": [
    "dt = DecisionTreeClassifier(random_state=42)\n",
    "dt.fit(X_train, y_train)\n",
    "\n",
    "y_pred = dt.predict(X_val)\n",
    "print(f\"Accuracy Decision tree model (default parameters): {round(accuracy_score(y_pred,y_val),3)}\")"
   ]
  },
  {
   "cell_type": "markdown",
   "id": "3157fa77",
   "metadata": {},
   "source": [
    "We have to analyze if this poor performance is due to overfitting (when the accuracy for the training set is perfect, but much worse for the validation set). As we see below, this is indeed the case."
   ]
  },
  {
   "cell_type": "code",
   "execution_count": 42,
   "id": "239faa57",
   "metadata": {},
   "outputs": [
    {
     "name": "stdout",
     "output_type": "stream",
     "text": [
      "Accuracy of training set: 1.0\n",
      "Accuracy of validation set: 0.663\n"
     ]
    }
   ],
   "source": [
    "y_pred = dt.predict(X_train)\n",
    "print(f\"Accuracy of training set: {round(accuracy_score(y_pred,y_train),3)}\")\n",
    "\n",
    "y_pred = dt.predict(X_val)\n",
    "print(f\"Accuracy of validation set: {round(accuracy_score(y_pred,y_val),3)}\")"
   ]
  },
  {
   "cell_type": "markdown",
   "id": "dfb68b1c",
   "metadata": {},
   "source": [
    "Thus, we have to tune the parameters for the decisioin trees, and we will follow what we did during the lessons, tuning the *maximum depth* of the tree, and the *min_samples_leaf*. We see that the best option is a *depth* of 4 and 20 *min_samples_leaf*, giving us an accuracy score of ~0.74, basically the same as the *Logistic Regression* model."
   ]
  },
  {
   "cell_type": "code",
   "execution_count": 43,
   "id": "63c83604",
   "metadata": {},
   "outputs": [
    {
     "data": {
      "text/plain": [
       "<matplotlib.legend.Legend at 0x7f28d65fffa0>"
      ]
     },
     "execution_count": 43,
     "metadata": {},
     "output_type": "execute_result"
    },
    {
     "data": {
      "image/png": "[encoded data removed]",
      "text/plain": [
       "<Figure size 504x504 with 1 Axes>"
      ]
     },
     "metadata": {
      "needs_background": "light"
     },
     "output_type": "display_data"
    }
   ],
   "source": [
    "plt.figure(figsize=(7,7))\n",
    "\n",
    "for m in [1,2,3,4, 5, 6]:\n",
    "    accuracies = []\n",
    "    for s in [1, 5, 10, 15, 20, 50, 100, 200]:\n",
    "        dt = DecisionTreeClassifier(max_depth=m, min_samples_leaf=s,random_state=42)\n",
    "        dt.fit(X_train, y_train)\n",
    "        y_pred = dt.predict(X_val)\n",
    "        acc_s = accuracy_score(y_val, y_pred)\n",
    "        accuracies.append(acc_s)\n",
    "#        print('%s -> %.3f' % (s, acc_s))\n",
    "    plt.plot(accuracies,label=f\"Depth: {m}\")\n",
    "\n",
    "plt.xlabel('Min samples leaf')\n",
    "plt.ylabel('Accuracy score')    \n",
    "plt.xticks([0,1,2,3,4,5,6,7],[\"1\",\"5\",\"10\",\"15\",\"20\",\"50\",\"100\",\"200\"])   \n",
    "plt.legend()\n",
    "    "
   ]
  },
  {
   "cell_type": "markdown",
   "id": "0e5b635a",
   "metadata": {},
   "source": [
    "### 3.4 Random Forest"
   ]
  },
  {
   "cell_type": "markdown",
   "id": "fde91f6d",
   "metadata": {},
   "source": [
    "We use here the **RandomForestClassifier**, useful for classification cases when our target variable is of type *integer*.\n",
    "\n",
    "When used with the default parameters, we see that the accuracy of the model is basically the same (~0.74) as the one obtained with the Logistic Regression or the Decision Tree models."
   ]
  },
  {
   "cell_type": "code",
   "execution_count": 44,
   "id": "dc2521f2",
   "metadata": {},
   "outputs": [
    {
     "name": "stdout",
     "output_type": "stream",
     "text": [
      "Accuracy Random Forest model (default parameters): 0.738\n"
     ]
    }
   ],
   "source": [
    "rf = RandomForestClassifier(random_state=42)\n",
    "rf.fit(X_train, y_train)\n",
    "\n",
    "y_pred = rf.predict(X_val)\n",
    "print(f\"Accuracy Random Forest model (default parameters): {round(accuracy_score(y_pred,y_val),3)}\")"
   ]
  },
  {
   "cell_type": "markdown",
   "id": "b4524f61",
   "metadata": {},
   "source": [
    "Let's see now if we can improve the accuracy of the model by tuning the *number of estimators (trees)*, *depth* of the trees, and the *min_samples_leaf* parameters."
   ]
  },
  {
   "cell_type": "markdown",
   "id": "cbf255f6",
   "metadata": {},
   "source": [
    "+ First, fixing the *depth* and *min_samples_leaf* to the best values we found for the \"Decision Tree\" model, we can vary the number of trees, and we see that the best accuracy is obtained with 110 trees (though the differences are quite small anyway) "
   ]
  },
  {
   "cell_type": "code",
   "execution_count": 45,
   "id": "b22a07a3",
   "metadata": {},
   "outputs": [
    {
     "name": "stdout",
     "output_type": "stream",
     "text": [
      "10 -> 0.731\n",
      "20 -> 0.756\n",
      "30 -> 0.768\n",
      "40 -> 0.773\n",
      "50 -> 0.767\n",
      "60 -> 0.765\n",
      "70 -> 0.768\n",
      "80 -> 0.772\n",
      "90 -> 0.775\n",
      "100 -> 0.773\n",
      "110 -> 0.777\n",
      "120 -> 0.772\n",
      "130 -> 0.765\n",
      "140 -> 0.770\n",
      "150 -> 0.772\n",
      "160 -> 0.773\n",
      "170 -> 0.775\n",
      "180 -> 0.773\n",
      "190 -> 0.773\n",
      "200 -> 0.773\n"
     ]
    },
    {
     "data": {
      "image/png": "[encoded data removed]",
      "text/plain": [
       "<Figure size 504x504 with 1 Axes>"
      ]
     },
     "metadata": {
      "needs_background": "light"
     },
     "output_type": "display_data"
    }
   ],
   "source": [
    "plt.figure(figsize=(7,7))\n",
    "\n",
    "acc_scores = []\n",
    "\n",
    "for i in range(10, 201, 10):\n",
    "    rf = RandomForestClassifier(n_estimators=i, max_depth=4, min_samples_leaf= 20, random_state=42)\n",
    "    rf.fit(X_train, y_train)\n",
    "    y_pred = rf.predict(X_val)\n",
    "    acc = accuracy_score(y_val, y_pred)\n",
    "    print('%s -> %.3f' % (i, acc))\n",
    "    acc_scores.append(acc)\n",
    "    \n",
    "plt.plot(acc_scores)    \n",
    "\n",
    "xs = list(range(0,20))\n",
    "xstr = [str(x) for x in list(range(10,201,10))]\n",
    "\n",
    "plt.title(\"Best number of estimators?\")\n",
    "plt.xlabel('Number of estimators')\n",
    "plt.ylabel('Accuracy score')    \n",
    "plt.xticks(xs,xstr)   \n",
    "plt.show()"
   ]
  },
  {
   "cell_type": "markdown",
   "id": "51aeaf47",
   "metadata": {},
   "source": [
    "+ We can now see if modifying the *max_depth* after fixing the number of estimators gives us a better accuracy. And indeed, we can see with a max_depth of 5, we manage to get an accuracy of 0.785"
   ]
  },
  {
   "cell_type": "code",
   "execution_count": 46,
   "id": "293e6803",
   "metadata": {},
   "outputs": [
    {
     "name": "stdout",
     "output_type": "stream",
     "text": [
      "3 -> 0.741\n",
      "4 -> 0.777\n",
      "5 -> 0.785\n",
      "6 -> 0.780\n",
      "7 -> 0.777\n"
     ]
    },
    {
     "data": {
      "image/png": "[encoded data removed]",
      "text/plain": [
       "<Figure size 504x504 with 1 Axes>"
      ]
     },
     "metadata": {
      "needs_background": "light"
     },
     "output_type": "display_data"
    }
   ],
   "source": [
    "plt.figure(figsize=(7,7))\n",
    "\n",
    "acc_scores = []\n",
    "\n",
    "for i in range(3, 8):\n",
    "    rf = RandomForestClassifier(n_estimators=110, max_depth=i, min_samples_leaf= 20, random_state=42)\n",
    "    rf.fit(X_train, y_train)\n",
    "    y_pred = rf.predict(X_val)\n",
    "    acc = accuracy_score(y_val, y_pred)\n",
    "    print('%s -> %.3f' % (i, acc))\n",
    "    acc_scores.append(acc)\n",
    "    \n",
    "plt.plot(acc_scores)    \n",
    "\n",
    "xs = list(range(0,5))\n",
    "xstr = [str(x) for x in list(range(3,8))]\n",
    "\n",
    "plt.title(\"Best max_depth (with 110 estimators)?\")\n",
    "plt.xlabel('Max_depth')\n",
    "plt.ylabel('Accuracy score')    \n",
    "plt.xticks(xs,xstr)   \n",
    "plt.show()"
   ]
  },
  {
   "cell_type": "markdown",
   "id": "36d0fdd9",
   "metadata": {},
   "source": [
    "+ Lastly, we can see if modifying the *min_samples_leaf* after fixing the number of estimators and the maximum depth gives us a better accuracy. In this case, we see that the best accuracy remains with *min_sample_leaf == 20*"
   ]
  },
  {
   "cell_type": "code",
   "execution_count": 47,
   "id": "0f192276",
   "metadata": {},
   "outputs": [
    {
     "name": "stdout",
     "output_type": "stream",
     "text": [
      "10 -> 0.770\n",
      "20 -> 0.785\n",
      "30 -> 0.770\n",
      "40 -> 0.770\n",
      "50 -> 0.763\n"
     ]
    },
    {
     "data": {
      "image/png": "[encoded data removed]",
      "text/plain": [
       "<Figure size 504x504 with 1 Axes>"
      ]
     },
     "metadata": {
      "needs_background": "light"
     },
     "output_type": "display_data"
    }
   ],
   "source": [
    "plt.figure(figsize=(7,7))\n",
    "\n",
    "acc_scores = []\n",
    "\n",
    "for i in range(10, 51, 10):\n",
    "    rf = RandomForestClassifier(n_estimators=110, max_depth=5, min_samples_leaf= i, random_state=42)\n",
    "    rf.fit(X_train, y_train)\n",
    "    y_pred = rf.predict(X_val)\n",
    "    acc = accuracy_score(y_val, y_pred)\n",
    "    print('%s -> %.3f' % (i, acc))\n",
    "    acc_scores.append(acc)\n",
    "    \n",
    "plt.plot(acc_scores)    \n",
    "\n",
    "xs = list(range(0,5))\n",
    "xstr = [str(x) for x in list(range(10,51,10))]\n",
    "\n",
    "plt.title(\"Best min_samples_leaf (with: 110 estimators, max_depth=5)?\")\n",
    "plt.xlabel('Min_sample_leaf')\n",
    "plt.ylabel('Accuracy score')    \n",
    "plt.xticks(xs,xstr)   \n",
    "plt.show()"
   ]
  },
  {
   "cell_type": "markdown",
   "id": "42ec9c90",
   "metadata": {},
   "source": [
    "### 3.5 XGBoost"
   ]
  },
  {
   "cell_type": "markdown",
   "id": "102c6213",
   "metadata": {},
   "source": [
    "We use here the **xgboost**, with an objective of \"binary:logistic\", but this requires that our target values are between [0,1], when our winner information is either 1 or 2. We can subtract 1 from our data, and then we are able to use the 'binary:logistic' objective."
   ]
  },
  {
   "cell_type": "code",
   "execution_count": 48,
   "id": "7673aca7",
   "metadata": {},
   "outputs": [],
   "source": [
    "# subtract one, so that the values for the target variable will be 0|1\n",
    "\n",
    "y_train_xg = y_train - 1\n",
    "y_val_xg = y_val - 1"
   ]
  },
  {
   "cell_type": "code",
   "execution_count": 49,
   "id": "07c9c0c3",
   "metadata": {},
   "outputs": [],
   "source": [
    "dtrain = xgb.DMatrix(X_train, label=y_train_xg, feature_names=df_train.columns)\n",
    "dval = xgb.DMatrix(X_val, label=y_val_xg, feature_names=df_train.columns)"
   ]
  },
  {
   "cell_type": "markdown",
   "id": "3953588e",
   "metadata": {},
   "source": [
    "During the course we used a watchlist and the \"AUC\" eval metric to evaluate XGBoost, but since we have been using throughout the *accuracy_score*, we calculate and plot these values using a different (but equivalent) approach, calculating the *accuracy_score* for differnt Boost numbers. And as we can see below, from the detailed output, and from the plot, the best accuracy score (0.74) is obtained when *num_boost_round* is ~40, though still far from the 0.785 obtained with the Random Forest model."
   ]
  },
  {
   "cell_type": "code",
   "execution_count": 50,
   "id": "10b8135f",
   "metadata": {},
   "outputs": [],
   "source": [
    "xgb_params = {\n",
    "    'eta': 0.3,\n",
    "    'max_depth': 6,\n",
    "    'min_child_weight': 1,\n",
    "    'objective': 'binary:logistic',\n",
    "    'nthread': 8,\n",
    "    'seed': 1\n",
    "}"
   ]
  },
  {
   "cell_type": "code",
   "execution_count": 51,
   "id": "641eb1ce",
   "metadata": {},
   "outputs": [
    {
     "name": "stdout",
     "output_type": "stream",
     "text": [
      "10 -> 0.734\n",
      "20 -> 0.734\n",
      "30 -> 0.734\n",
      "40 -> 0.738\n",
      "50 -> 0.731\n",
      "60 -> 0.734\n",
      "70 -> 0.729\n",
      "80 -> 0.736\n",
      "90 -> 0.727\n",
      "100 -> 0.736\n"
     ]
    },
    {
     "data": {
      "image/png": "[encoded data removed]",
      "text/plain": [
       "<Figure size 504x504 with 1 Axes>"
      ]
     },
     "metadata": {
      "needs_background": "light"
     },
     "output_type": "display_data"
    }
   ],
   "source": [
    "plt.figure(figsize=(7,7))\n",
    "\n",
    "acc_scores = []\n",
    "\n",
    "for i in range(10, 101,10):\n",
    "    model = xgb.train(xgb_params, dtrain,\n",
    "                  num_boost_round=i)\n",
    "    y_pred_xg = model.predict(dval)\n",
    "\n",
    "    # we add one and convert to integer, for easy comparison with y_val\n",
    "    y_pred = np.rint(y_pred_xg + 1).astype(int)    \n",
    "    acc = accuracy_score(y_val, y_pred)\n",
    "    print('%s -> %.3f' % (i, acc))\n",
    "    acc_scores.append(acc)\n",
    "    \n",
    "plt.plot(acc_scores)    \n",
    "\n",
    "xs = list(range(0,10))\n",
    "xstr = [str(x) for x in list(range(10,101,10))]\n",
    "\n",
    "plt.title(\"Best BoostNumber??\")\n",
    "plt.xlabel('Number of boost rounds')\n",
    "plt.ylabel('Accuracy score')    \n",
    "plt.xticks(xs,xstr)   \n",
    "plt.show()\n",
    "\n"
   ]
  },
  {
   "cell_type": "markdown",
   "id": "944ab022",
   "metadata": {},
   "source": [
    "So, as per the examples during the course, let's analyze the effect of varying **eta**, **max_depth**, and **min_child_weight**"
   ]
  },
  {
   "cell_type": "markdown",
   "id": "483b362b",
   "metadata": {},
   "source": [
    "+ Let's see first the effect of **eta** parameter. From the plot below it is not totally clear, but an **eta == 0.1** seems to be the best overall option, assuming a boost number ~100."
   ]
  },
  {
   "cell_type": "code",
   "execution_count": 52,
   "id": "7cc0449d",
   "metadata": {},
   "outputs": [
    {
     "data": {
      "image/png": "[encoded data removed]",
      "text/plain": [
       "<Figure size 504x504 with 1 Axes>"
      ]
     },
     "metadata": {
      "needs_background": "light"
     },
     "output_type": "display_data"
    }
   ],
   "source": [
    "plt.figure(figsize=(7,7))\n",
    "\n",
    "for m in [0.01,0.1,0.5,1.0]:\n",
    "    xgb_params['eta'] = m\n",
    "    accuracies = []\n",
    "\n",
    "    for nb in range(10,201,10):\n",
    "        model = xgb.train(xgb_params, dtrain,\n",
    "                      num_boost_round=nb)\n",
    "        y_pred_xg = model.predict(dval)\n",
    "\n",
    "        # we add one and convert to integer, for easy comparison with y_val\n",
    "        y_pred = np.rint(y_pred_xg + 1).astype(int)    \n",
    "        acc = accuracy_score(y_val, y_pred)\n",
    "#        print('%s -> %.3f' % (m, acc))\n",
    "        accuracies.append(acc)\n",
    "\n",
    "    plt.plot(accuracies,label=f\"Eta: {m}\")\n",
    "\n",
    "xs = list(range(0,20))\n",
    "xstr = [str(x) for x in range(10,201,10)]    \n",
    "plt.title(\"Best eta?\")\n",
    "plt.xlabel('Boost number')\n",
    "plt.ylabel('Accuracy score')    \n",
    "plt.xticks(xs,xstr)\n",
    "plt.legend()\n",
    "plt.show()    "
   ]
  },
  {
   "cell_type": "markdown",
   "id": "f9430a3f",
   "metadata": {},
   "source": [
    "+ Let's see now the effect of **max_depth** parameter (after fixing **eta == 0.01**. From the plot below  **max_depth == 6** seems to be the best overall option, assuming a boost number ~100."
   ]
  },
  {
   "cell_type": "code",
   "execution_count": 53,
   "id": "237bca69",
   "metadata": {},
   "outputs": [
    {
     "data": {
      "image/png": "[encoded data removed]",
      "text/plain": [
       "<Figure size 504x504 with 1 Axes>"
      ]
     },
     "metadata": {
      "needs_background": "light"
     },
     "output_type": "display_data"
    }
   ],
   "source": [
    "plt.figure(figsize=(7,7))\n",
    "\n",
    "xgb_params['eta'] = 0.01\n",
    "\n",
    "for m in [3,4,6,10]:\n",
    "    xgb_params['max_depth'] = m\n",
    "\n",
    "    accuracies = []\n",
    "\n",
    "    for nb in range(10,201,10):\n",
    "        model = xgb.train(xgb_params, dtrain,\n",
    "                      num_boost_round=nb)\n",
    "        y_pred_xg = model.predict(dval)\n",
    "\n",
    "        # we add one and convert to integer, for easy comparison with y_val\n",
    "        y_pred = np.rint(y_pred_xg + 1).astype(int)    \n",
    "        acc = accuracy_score(y_val, y_pred)\n",
    "     #   print('%s -> %.3f' % (m, acc))\n",
    "        accuracies.append(acc)\n",
    "\n",
    "    plt.plot(accuracies,label=f\"Max depth: {m}\")\n",
    "\n",
    "xs = list(range(0,20))\n",
    "xstr = [str(x) for x in range(10,201,10)]    \n",
    "plt.title(\"Best max depth (eta == 0.01)?\")\n",
    "plt.xlabel('Boost number')\n",
    "plt.ylabel('Accuracy score')    \n",
    "plt.xticks(xs,xstr)\n",
    "plt.legend()\n",
    "plt.show()    "
   ]
  },
  {
   "cell_type": "markdown",
   "id": "e4748b7e",
   "metadata": {},
   "source": [
    "+ Let's finally see the effect of **min_child_weight** parameter (after fixing **eta == 0.01** and **max_depth == 6**. From the plot below  **min_child_weight == 1** seems to be the best overall option, assuming a boost number ~100."
   ]
  },
  {
   "cell_type": "code",
   "execution_count": 54,
   "id": "091a5274",
   "metadata": {},
   "outputs": [
    {
     "data": {
      "image/png": "[encoded data removed]",
      "text/plain": [
       "<Figure size 504x504 with 1 Axes>"
      ]
     },
     "metadata": {
      "needs_background": "light"
     },
     "output_type": "display_data"
    }
   ],
   "source": [
    "plt.figure(figsize=(7,7))\n",
    "\n",
    "xgb_params['eta'] = 0.01\n",
    "xgb_params['max_depth'] = 6\n",
    "\n",
    "for m in [1,10,30]:\n",
    "    xgb_params['min_child_weight'] = m\n",
    "\n",
    "    accuracies = []\n",
    "\n",
    "    for nb in range(10,201,10):\n",
    "        model = xgb.train(xgb_params, dtrain,\n",
    "                      num_boost_round=nb)\n",
    "        y_pred_xg = model.predict(dval)\n",
    "\n",
    "        # we add one and convert to integer, for easy comparison with y_val\n",
    "        y_pred = np.rint(y_pred_xg + 1).astype(int)    \n",
    "        acc = accuracy_score(y_val, y_pred)\n",
    "     #   print('%s -> %.3f' % (m, acc))\n",
    "        accuracies.append(acc)\n",
    "\n",
    "    plt.plot(accuracies,label=f\"Min child weight: {m}\")\n",
    "\n",
    "xs = list(range(0,20))\n",
    "xstr = [str(x) for x in range(10,201,10)]    \n",
    "plt.title(\"Best min child weight (eta == 0.01 ; max_depth == 6)?\")\n",
    "plt.xlabel('Boost number')\n",
    "plt.ylabel('Accuracy score')    \n",
    "plt.xticks(xs,xstr)\n",
    "plt.legend()\n",
    "plt.show()    "
   ]
  },
  {
   "cell_type": "markdown",
   "id": "8dd89a67",
   "metadata": {},
   "source": [
    "+ So, finally, for the parameters found above (**eta==0.01**, **max_depth==6**, and **min_child_weight**), let's find the best boost number. As we can see below, the best accuracy is obtained when Boost number is 130, with an accuracy score of 0.761."
   ]
  },
  {
   "cell_type": "code",
   "execution_count": 55,
   "id": "82115b5a",
   "metadata": {},
   "outputs": [
    {
     "name": "stdout",
     "output_type": "stream",
     "text": [
      "10 -> 0.709\n",
      "20 -> 0.724\n",
      "30 -> 0.731\n",
      "40 -> 0.734\n",
      "50 -> 0.746\n",
      "60 -> 0.743\n",
      "70 -> 0.751\n",
      "80 -> 0.748\n",
      "90 -> 0.750\n",
      "100 -> 0.751\n",
      "110 -> 0.758\n",
      "120 -> 0.758\n",
      "130 -> 0.761\n",
      "140 -> 0.758\n",
      "150 -> 0.755\n",
      "160 -> 0.758\n",
      "170 -> 0.755\n",
      "180 -> 0.751\n",
      "190 -> 0.753\n",
      "200 -> 0.748\n"
     ]
    },
    {
     "data": {
      "image/png": "[encoded data removed]",
      "text/plain": [
       "<Figure size 504x504 with 1 Axes>"
      ]
     },
     "metadata": {
      "needs_background": "light"
     },
     "output_type": "display_data"
    }
   ],
   "source": [
    "plt.figure(figsize=(7,7))\n",
    "\n",
    "xgb_params['eta'] = 0.01\n",
    "xgb_params['max_depth'] = 6\n",
    "xgb_params['min_child_weight'] = 1\n",
    "\n",
    "accuracies = []\n",
    "\n",
    "for nb in range(10,201,10):\n",
    "    model = xgb.train(xgb_params, dtrain,\n",
    "                    num_boost_round=nb)\n",
    "    y_pred_xg = model.predict(dval)\n",
    "\n",
    "    # we add one and convert to integer, for easy comparison with y_val\n",
    "    y_pred = np.rint(y_pred_xg + 1).astype(int)    \n",
    "    acc = accuracy_score(y_val, y_pred)\n",
    "    print('%s -> %.3f' % (nb, acc))\n",
    "    accuracies.append(acc)\n",
    "\n",
    "plt.plot(accuracies)\n",
    "\n",
    "xs = list(range(0,20))\n",
    "xstr = [str(x) for x in range(10,201,10)]    \n",
    "plt.title(\"Best boost number?\")\n",
    "plt.xlabel('Boost number')\n",
    "plt.ylabel('Accuracy score')    \n",
    "plt.xticks(xs,xstr)\n",
    "plt.show()    "
   ]
  },
  {
   "cell_type": "markdown",
   "id": "684ba0a5",
   "metadata": {},
   "source": [
    "### 3.6 Conclusion"
   ]
  },
  {
   "cell_type": "markdown",
   "id": "92443b2b",
   "metadata": {},
   "source": [
    "After trying Logistic Regression, Decision Tree, Random Forest and XGBoost, and trying to tune each of them to obtain the best possible accuracy score, the winner overall was:\n",
    "\n",
    "+ *Random Forest*, with the following parameter values: *estimators*: 110, *max_depth*: 5 and *min_sample_leaf*: 20, obtaining an *accuracy score* of 0.785. \n",
    "\n",
    "+ While an accuracy score of 0.785 might not look like very good, predicting winners at sport matches can be quite difficult. For example, a recent paper on the \"Prediction of football match results with Machine Learning\" (https://www.sciencedirect.com/science/article/pii/S1877050922007955) reports an accuracy of 65.26% for their best model (although football is arguably more difficult to predict than individual badminton matches)."
   ]
  },
  {
   "cell_type": "markdown",
   "id": "3f86257c",
   "metadata": {},
   "source": [
    "### 3.7 Final testing "
   ]
  },
  {
   "cell_type": "markdown",
   "id": "68fc07e2",
   "metadata": {},
   "source": [
    "Given the selection of the best model in the previous section, we can do our final testing, training with the full training data and testing on the testing data (as per the Validation Framework section above), and we see that the accuracy drops to ~75%, but it is not a very large drop, so it looks like the model is quite reliable for new data."
   ]
  },
  {
   "cell_type": "code",
   "execution_count": 56,
   "id": "a03cab60",
   "metadata": {},
   "outputs": [
    {
     "name": "stdout",
     "output_type": "stream",
     "text": [
      "Accuracy score on final test data: -> 0.746\n"
     ]
    }
   ],
   "source": [
    "rf = RandomForestClassifier(n_estimators=110, max_depth=5, min_samples_leaf= 20, random_state=42)\n",
    "rf.fit(X_train_full, y_train_full)\n",
    "y_pred = rf.predict(X_test)\n",
    "acc = accuracy_score(y_test, y_pred)\n",
    "print('Accuracy score on final test data: -> %.3f' % (acc))\n"
   ]
  }
 ],
 "metadata": {
  "kernelspec": {
   "display_name": "ml-zoomcamp",
   "language": "python",
   "name": "ml-zoomcamp"
  },
  "language_info": {
   "codemirror_mode": {
    "name": "ipython",
    "version": 3
   },
   "file_extension": ".py",
   "mimetype": "text/x-python",
   "name": "python",
   "nbconvert_exporter": "python",
   "pygments_lexer": "ipython3",
   "version": "3.9.13"
  }
 },
 "nbformat": 4,
 "nbformat_minor": 5
}
